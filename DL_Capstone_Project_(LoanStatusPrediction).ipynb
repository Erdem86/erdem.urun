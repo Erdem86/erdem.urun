{
  "nbformat": 4,
  "nbformat_minor": 0,
  "metadata": {
    "colab": {
      "name": "DL Capstone Project (LoanStatusPrediction).ipynb",
      "provenance": [],
      "authorship_tag": "ABX9TyOdJR0C2vxCsowRjGxw4/bG",
      "include_colab_link": true
    },
    "kernelspec": {
      "name": "python3",
      "display_name": "Python 3"
    }
  },
  "cells": [
    {
      "cell_type": "markdown",
      "metadata": {
        "id": "view-in-github",
        "colab_type": "text"
      },
      "source": [
        "<a href=\"https://colab.research.google.com/github/Erdem86/erdem.urun/blob/master/DL_Capstone_Project_(LoanStatusPrediction).ipynb\" target=\"_parent\"><img src=\"https://colab.research.google.com/assets/colab-badge.svg\" alt=\"Open In Colab\"/></a>"
      ]
    },
    {
      "cell_type": "code",
      "metadata": {
        "id": "WYN5WqVtmy4R"
      },
      "source": [
        ""
      ],
      "execution_count": 76,
      "outputs": []
    },
    {
      "cell_type": "code",
      "metadata": {
        "colab": {
          "base_uri": "https://localhost:8080/"
        },
        "id": "nXK5J1KUm2Y3",
        "outputId": "ab1d5f52-0ee1-4262-eb5a-3f61f24805bb"
      },
      "source": [
        "from google.colab import drive\n",
        "drive.mount('/content/drive')"
      ],
      "execution_count": 77,
      "outputs": [
        {
          "output_type": "stream",
          "text": [
            "Drive already mounted at /content/drive; to attempt to forcibly remount, call drive.mount(\"/content/drive\", force_remount=True).\n"
          ],
          "name": "stdout"
        }
      ]
    },
    {
      "cell_type": "code",
      "metadata": {
        "id": "DuIRJGbwm_nm"
      },
      "source": [
        "import pandas as pd\n"
      ],
      "execution_count": 78,
      "outputs": []
    },
    {
      "cell_type": "code",
      "metadata": {
        "id": "p9jTw8CgnJzS"
      },
      "source": [
        "df=pd.read_csv('/content/drive/MyDrive/DL/DATA/lending_club_info.csv', index_col='LoanStatNew')"
      ],
      "execution_count": 79,
      "outputs": []
    },
    {
      "cell_type": "code",
      "metadata": {
        "colab": {
          "base_uri": "https://localhost:8080/"
        },
        "id": "G5W7j776noPU",
        "outputId": "cb1d0287-b792-4506-bd50-bca2541c342a"
      },
      "source": [
        "print(df.loc['revol_util']['Description'])"
      ],
      "execution_count": 80,
      "outputs": [
        {
          "output_type": "stream",
          "text": [
            "Revolving line utilization rate, or the amount of credit the borrower is using relative to all available revolving credit.\n"
          ],
          "name": "stdout"
        }
      ]
    },
    {
      "cell_type": "code",
      "metadata": {
        "id": "6akix4spn0RW"
      },
      "source": [
        "def feat_info(col_name):  # to pull the feature data\n",
        "  print(df1.loc[col_name]['Description'])"
      ],
      "execution_count": 81,
      "outputs": []
    },
    {
      "cell_type": "code",
      "metadata": {
        "colab": {
          "base_uri": "https://localhost:8080/"
        },
        "id": "rbBGY7EPoErG",
        "outputId": "acfebfa7-b36e-49ed-9c2d-ba3bfa797beb"
      },
      "source": [
        "feat_info('mort_acc')"
      ],
      "execution_count": 82,
      "outputs": [
        {
          "output_type": "stream",
          "text": [
            "Number of mortgage accounts.\n"
          ],
          "name": "stdout"
        }
      ]
    },
    {
      "cell_type": "code",
      "metadata": {
        "id": "7-J3w2NUoIYM"
      },
      "source": [
        "df1=df"
      ],
      "execution_count": 83,
      "outputs": []
    },
    {
      "cell_type": "code",
      "metadata": {
        "colab": {
          "base_uri": "https://localhost:8080/",
          "height": 235
        },
        "id": "qULk9NGUodOo",
        "outputId": "90ae2746-efc1-44e5-96ec-7b826a4a3020"
      },
      "source": [
        "df1.head()"
      ],
      "execution_count": 84,
      "outputs": [
        {
          "output_type": "execute_result",
          "data": {
            "text/html": [
              "<div>\n",
              "<style scoped>\n",
              "    .dataframe tbody tr th:only-of-type {\n",
              "        vertical-align: middle;\n",
              "    }\n",
              "\n",
              "    .dataframe tbody tr th {\n",
              "        vertical-align: top;\n",
              "    }\n",
              "\n",
              "    .dataframe thead th {\n",
              "        text-align: right;\n",
              "    }\n",
              "</style>\n",
              "<table border=\"1\" class=\"dataframe\">\n",
              "  <thead>\n",
              "    <tr style=\"text-align: right;\">\n",
              "      <th></th>\n",
              "      <th>Description</th>\n",
              "    </tr>\n",
              "    <tr>\n",
              "      <th>LoanStatNew</th>\n",
              "      <th></th>\n",
              "    </tr>\n",
              "  </thead>\n",
              "  <tbody>\n",
              "    <tr>\n",
              "      <th>loan_amnt</th>\n",
              "      <td>The listed amount of the loan applied for by t...</td>\n",
              "    </tr>\n",
              "    <tr>\n",
              "      <th>term</th>\n",
              "      <td>The number of payments on the loan. Values are...</td>\n",
              "    </tr>\n",
              "    <tr>\n",
              "      <th>int_rate</th>\n",
              "      <td>Interest Rate on the loan</td>\n",
              "    </tr>\n",
              "    <tr>\n",
              "      <th>installment</th>\n",
              "      <td>The monthly payment owed by the borrower if th...</td>\n",
              "    </tr>\n",
              "    <tr>\n",
              "      <th>grade</th>\n",
              "      <td>LC assigned loan grade</td>\n",
              "    </tr>\n",
              "  </tbody>\n",
              "</table>\n",
              "</div>"
            ],
            "text/plain": [
              "                                                   Description\n",
              "LoanStatNew                                                   \n",
              "loan_amnt    The listed amount of the loan applied for by t...\n",
              "term         The number of payments on the loan. Values are...\n",
              "int_rate                             Interest Rate on the loan\n",
              "installment  The monthly payment owed by the borrower if th...\n",
              "grade                                   LC assigned loan grade"
            ]
          },
          "metadata": {
            "tags": []
          },
          "execution_count": 84
        }
      ]
    },
    {
      "cell_type": "code",
      "metadata": {
        "colab": {
          "base_uri": "https://localhost:8080/",
          "height": 394
        },
        "id": "1rs9P_nGofen",
        "outputId": "57a9ee53-88ef-4ff3-83e1-11d1d7d4c344"
      },
      "source": [
        "df=pd.read_csv('/content/drive/MyDrive/DL/DATA/lending_club_loan_two.csv')\n",
        "df.head()"
      ],
      "execution_count": 85,
      "outputs": [
        {
          "output_type": "execute_result",
          "data": {
            "text/html": [
              "<div>\n",
              "<style scoped>\n",
              "    .dataframe tbody tr th:only-of-type {\n",
              "        vertical-align: middle;\n",
              "    }\n",
              "\n",
              "    .dataframe tbody tr th {\n",
              "        vertical-align: top;\n",
              "    }\n",
              "\n",
              "    .dataframe thead th {\n",
              "        text-align: right;\n",
              "    }\n",
              "</style>\n",
              "<table border=\"1\" class=\"dataframe\">\n",
              "  <thead>\n",
              "    <tr style=\"text-align: right;\">\n",
              "      <th></th>\n",
              "      <th>loan_amnt</th>\n",
              "      <th>term</th>\n",
              "      <th>int_rate</th>\n",
              "      <th>installment</th>\n",
              "      <th>grade</th>\n",
              "      <th>sub_grade</th>\n",
              "      <th>emp_title</th>\n",
              "      <th>emp_length</th>\n",
              "      <th>home_ownership</th>\n",
              "      <th>annual_inc</th>\n",
              "      <th>verification_status</th>\n",
              "      <th>issue_d</th>\n",
              "      <th>loan_status</th>\n",
              "      <th>purpose</th>\n",
              "      <th>title</th>\n",
              "      <th>dti</th>\n",
              "      <th>earliest_cr_line</th>\n",
              "      <th>open_acc</th>\n",
              "      <th>pub_rec</th>\n",
              "      <th>revol_bal</th>\n",
              "      <th>revol_util</th>\n",
              "      <th>total_acc</th>\n",
              "      <th>initial_list_status</th>\n",
              "      <th>application_type</th>\n",
              "      <th>mort_acc</th>\n",
              "      <th>pub_rec_bankruptcies</th>\n",
              "      <th>address</th>\n",
              "    </tr>\n",
              "  </thead>\n",
              "  <tbody>\n",
              "    <tr>\n",
              "      <th>0</th>\n",
              "      <td>10000.0</td>\n",
              "      <td>36 months</td>\n",
              "      <td>11.44</td>\n",
              "      <td>329.48</td>\n",
              "      <td>B</td>\n",
              "      <td>B4</td>\n",
              "      <td>Marketing</td>\n",
              "      <td>10+ years</td>\n",
              "      <td>RENT</td>\n",
              "      <td>117000.0</td>\n",
              "      <td>Not Verified</td>\n",
              "      <td>Jan-2015</td>\n",
              "      <td>Fully Paid</td>\n",
              "      <td>vacation</td>\n",
              "      <td>Vacation</td>\n",
              "      <td>26.24</td>\n",
              "      <td>Jun-1990</td>\n",
              "      <td>16.0</td>\n",
              "      <td>0.0</td>\n",
              "      <td>36369.0</td>\n",
              "      <td>41.8</td>\n",
              "      <td>25.0</td>\n",
              "      <td>w</td>\n",
              "      <td>INDIVIDUAL</td>\n",
              "      <td>0.0</td>\n",
              "      <td>0.0</td>\n",
              "      <td>0174 Michelle Gateway\\nMendozaberg, OK 22690</td>\n",
              "    </tr>\n",
              "    <tr>\n",
              "      <th>1</th>\n",
              "      <td>8000.0</td>\n",
              "      <td>36 months</td>\n",
              "      <td>11.99</td>\n",
              "      <td>265.68</td>\n",
              "      <td>B</td>\n",
              "      <td>B5</td>\n",
              "      <td>Credit analyst</td>\n",
              "      <td>4 years</td>\n",
              "      <td>MORTGAGE</td>\n",
              "      <td>65000.0</td>\n",
              "      <td>Not Verified</td>\n",
              "      <td>Jan-2015</td>\n",
              "      <td>Fully Paid</td>\n",
              "      <td>debt_consolidation</td>\n",
              "      <td>Debt consolidation</td>\n",
              "      <td>22.05</td>\n",
              "      <td>Jul-2004</td>\n",
              "      <td>17.0</td>\n",
              "      <td>0.0</td>\n",
              "      <td>20131.0</td>\n",
              "      <td>53.3</td>\n",
              "      <td>27.0</td>\n",
              "      <td>f</td>\n",
              "      <td>INDIVIDUAL</td>\n",
              "      <td>3.0</td>\n",
              "      <td>0.0</td>\n",
              "      <td>1076 Carney Fort Apt. 347\\nLoganmouth, SD 05113</td>\n",
              "    </tr>\n",
              "    <tr>\n",
              "      <th>2</th>\n",
              "      <td>15600.0</td>\n",
              "      <td>36 months</td>\n",
              "      <td>10.49</td>\n",
              "      <td>506.97</td>\n",
              "      <td>B</td>\n",
              "      <td>B3</td>\n",
              "      <td>Statistician</td>\n",
              "      <td>&lt; 1 year</td>\n",
              "      <td>RENT</td>\n",
              "      <td>43057.0</td>\n",
              "      <td>Source Verified</td>\n",
              "      <td>Jan-2015</td>\n",
              "      <td>Fully Paid</td>\n",
              "      <td>credit_card</td>\n",
              "      <td>Credit card refinancing</td>\n",
              "      <td>12.79</td>\n",
              "      <td>Aug-2007</td>\n",
              "      <td>13.0</td>\n",
              "      <td>0.0</td>\n",
              "      <td>11987.0</td>\n",
              "      <td>92.2</td>\n",
              "      <td>26.0</td>\n",
              "      <td>f</td>\n",
              "      <td>INDIVIDUAL</td>\n",
              "      <td>0.0</td>\n",
              "      <td>0.0</td>\n",
              "      <td>87025 Mark Dale Apt. 269\\nNew Sabrina, WV 05113</td>\n",
              "    </tr>\n",
              "    <tr>\n",
              "      <th>3</th>\n",
              "      <td>7200.0</td>\n",
              "      <td>36 months</td>\n",
              "      <td>6.49</td>\n",
              "      <td>220.65</td>\n",
              "      <td>A</td>\n",
              "      <td>A2</td>\n",
              "      <td>Client Advocate</td>\n",
              "      <td>6 years</td>\n",
              "      <td>RENT</td>\n",
              "      <td>54000.0</td>\n",
              "      <td>Not Verified</td>\n",
              "      <td>Nov-2014</td>\n",
              "      <td>Fully Paid</td>\n",
              "      <td>credit_card</td>\n",
              "      <td>Credit card refinancing</td>\n",
              "      <td>2.60</td>\n",
              "      <td>Sep-2006</td>\n",
              "      <td>6.0</td>\n",
              "      <td>0.0</td>\n",
              "      <td>5472.0</td>\n",
              "      <td>21.5</td>\n",
              "      <td>13.0</td>\n",
              "      <td>f</td>\n",
              "      <td>INDIVIDUAL</td>\n",
              "      <td>0.0</td>\n",
              "      <td>0.0</td>\n",
              "      <td>823 Reid Ford\\nDelacruzside, MA 00813</td>\n",
              "    </tr>\n",
              "    <tr>\n",
              "      <th>4</th>\n",
              "      <td>24375.0</td>\n",
              "      <td>60 months</td>\n",
              "      <td>17.27</td>\n",
              "      <td>609.33</td>\n",
              "      <td>C</td>\n",
              "      <td>C5</td>\n",
              "      <td>Destiny Management Inc.</td>\n",
              "      <td>9 years</td>\n",
              "      <td>MORTGAGE</td>\n",
              "      <td>55000.0</td>\n",
              "      <td>Verified</td>\n",
              "      <td>Apr-2013</td>\n",
              "      <td>Charged Off</td>\n",
              "      <td>credit_card</td>\n",
              "      <td>Credit Card Refinance</td>\n",
              "      <td>33.95</td>\n",
              "      <td>Mar-1999</td>\n",
              "      <td>13.0</td>\n",
              "      <td>0.0</td>\n",
              "      <td>24584.0</td>\n",
              "      <td>69.8</td>\n",
              "      <td>43.0</td>\n",
              "      <td>f</td>\n",
              "      <td>INDIVIDUAL</td>\n",
              "      <td>1.0</td>\n",
              "      <td>0.0</td>\n",
              "      <td>679 Luna Roads\\nGreggshire, VA 11650</td>\n",
              "    </tr>\n",
              "  </tbody>\n",
              "</table>\n",
              "</div>"
            ],
            "text/plain": [
              "   loan_amnt  ...                                          address\n",
              "0    10000.0  ...     0174 Michelle Gateway\\nMendozaberg, OK 22690\n",
              "1     8000.0  ...  1076 Carney Fort Apt. 347\\nLoganmouth, SD 05113\n",
              "2    15600.0  ...  87025 Mark Dale Apt. 269\\nNew Sabrina, WV 05113\n",
              "3     7200.0  ...            823 Reid Ford\\nDelacruzside, MA 00813\n",
              "4    24375.0  ...             679 Luna Roads\\nGreggshire, VA 11650\n",
              "\n",
              "[5 rows x 27 columns]"
            ]
          },
          "metadata": {
            "tags": []
          },
          "execution_count": 85
        }
      ]
    },
    {
      "cell_type": "code",
      "metadata": {
        "colab": {
          "base_uri": "https://localhost:8080/"
        },
        "id": "JIz9w9C-o29s",
        "outputId": "a187041a-1327-450e-9fe9-23b4254d3430"
      },
      "source": [
        "df.info()"
      ],
      "execution_count": 86,
      "outputs": [
        {
          "output_type": "stream",
          "text": [
            "<class 'pandas.core.frame.DataFrame'>\n",
            "RangeIndex: 396030 entries, 0 to 396029\n",
            "Data columns (total 27 columns):\n",
            " #   Column                Non-Null Count   Dtype  \n",
            "---  ------                --------------   -----  \n",
            " 0   loan_amnt             396030 non-null  float64\n",
            " 1   term                  396030 non-null  object \n",
            " 2   int_rate              396030 non-null  float64\n",
            " 3   installment           396030 non-null  float64\n",
            " 4   grade                 396030 non-null  object \n",
            " 5   sub_grade             396030 non-null  object \n",
            " 6   emp_title             373103 non-null  object \n",
            " 7   emp_length            377729 non-null  object \n",
            " 8   home_ownership        396030 non-null  object \n",
            " 9   annual_inc            396030 non-null  float64\n",
            " 10  verification_status   396030 non-null  object \n",
            " 11  issue_d               396030 non-null  object \n",
            " 12  loan_status           396030 non-null  object \n",
            " 13  purpose               396030 non-null  object \n",
            " 14  title                 394275 non-null  object \n",
            " 15  dti                   396030 non-null  float64\n",
            " 16  earliest_cr_line      396030 non-null  object \n",
            " 17  open_acc              396030 non-null  float64\n",
            " 18  pub_rec               396030 non-null  float64\n",
            " 19  revol_bal             396030 non-null  float64\n",
            " 20  revol_util            395754 non-null  float64\n",
            " 21  total_acc             396030 non-null  float64\n",
            " 22  initial_list_status   396030 non-null  object \n",
            " 23  application_type      396030 non-null  object \n",
            " 24  mort_acc              358235 non-null  float64\n",
            " 25  pub_rec_bankruptcies  395495 non-null  float64\n",
            " 26  address               396030 non-null  object \n",
            "dtypes: float64(12), object(15)\n",
            "memory usage: 81.6+ MB\n"
          ],
          "name": "stdout"
        }
      ]
    },
    {
      "cell_type": "code",
      "metadata": {
        "colab": {
          "base_uri": "https://localhost:8080/",
          "height": 296
        },
        "id": "fckzImPio7Pi",
        "outputId": "5316ac6c-931f-423b-bf2e-cefe47602e12"
      },
      "source": [
        "import matplotlib.pyplot as plt\n",
        "import seaborn as sns\n",
        "sns.countplot(x='loan_status',data=df)"
      ],
      "execution_count": 87,
      "outputs": [
        {
          "output_type": "execute_result",
          "data": {
            "text/plain": [
              "<matplotlib.axes._subplots.AxesSubplot at 0x7f4d9a457438>"
            ]
          },
          "metadata": {
            "tags": []
          },
          "execution_count": 87
        },
        {
          "output_type": "display_data",
          "data": {
            "image/png": "[encoded data removed]",
            "text/plain": [
              "<Figure size 432x288 with 1 Axes>"
            ]
          },
          "metadata": {
            "tags": [],
            "image/png": {
              "width": 408,
              "height": 262
            },
            "needs_background": "light"
          }
        }
      ]
    },
    {
      "cell_type": "code",
      "metadata": {
        "colab": {
          "base_uri": "https://localhost:8080/",
          "height": 768
        },
        "id": "SxlV0qqApTb-",
        "outputId": "945d0ebc-2e41-4b83-c7a5-5bcaad22eb52"
      },
      "source": [
        "plt.figure(figsize=(18,12))\n",
        "sns.distplot(df['loan_amnt'],kde=False,bins=40)\n",
        "plt.xlim(0,45000);"
      ],
      "execution_count": 88,
      "outputs": [
        {
          "output_type": "stream",
          "text": [
            "/usr/local/lib/python3.6/dist-packages/seaborn/distributions.py:2557: FutureWarning: `distplot` is a deprecated function and will be removed in a future version. Please adapt your code to use either `displot` (a figure-level function with similar flexibility) or `histplot` (an axes-level function for histograms).\n",
            "  warnings.warn(msg, FutureWarning)\n"
          ],
          "name": "stderr"
        },
        {
          "output_type": "display_data",
          "data": {
            "image/png": "[encoded data removed]",
            "text/plain": [
              "<Figure size 1296x864 with 1 Axes>"
            ]
          },
          "metadata": {
            "tags": [],
            "image/png": {
              "width": 1073,
              "height": 697
            },
            "needs_background": "light"
          }
        }
      ]
    },
    {
      "cell_type": "code",
      "metadata": {
        "colab": {
          "base_uri": "https://localhost:8080/",
          "height": 712
        },
        "id": "XI1J23IZpZG4",
        "outputId": "2339e098-ef26-4f47-f14b-3c46718b5b04"
      },
      "source": [
        "plt.figure(figsize=(16,10))\n",
        "sns.heatmap(df.corr(),annot=True,cmap='viridis')\n",
        "# plt.ylim(18, 0);"
      ],
      "execution_count": 89,
      "outputs": [
        {
          "output_type": "execute_result",
          "data": {
            "text/plain": [
              "<matplotlib.axes._subplots.AxesSubplot at 0x7f4db0e24240>"
            ]
          },
          "metadata": {
            "tags": []
          },
          "execution_count": 89
        },
        {
          "output_type": "display_data",
          "data": {
            "image/png": "[encoded data removed]",
            "text/plain": [
              "<Figure size 1152x720 with 2 Axes>"
            ]
          },
          "metadata": {
            "tags": [],
            "image/png": {
              "width": 940,
              "height": 678
            },
            "needs_background": "light"
          }
        }
      ]
    },
    {
      "cell_type": "code",
      "metadata": {
        "colab": {
          "base_uri": "https://localhost:8080/"
        },
        "id": "5Pk8fmrUpkL0",
        "outputId": "8ab6b45e-c3a8-4b65-a55f-5818b44bb5ce"
      },
      "source": [
        "feat_info('installment')"
      ],
      "execution_count": 90,
      "outputs": [
        {
          "output_type": "stream",
          "text": [
            "The monthly payment owed by the borrower if the loan originates.\n"
          ],
          "name": "stdout"
        }
      ]
    },
    {
      "cell_type": "code",
      "metadata": {
        "colab": {
          "base_uri": "https://localhost:8080/"
        },
        "id": "ybubKYojpsKb",
        "outputId": "6f98da71-43db-4c0b-f7b1-4737513a4dd3"
      },
      "source": [
        "feat_info('loan_amnt')"
      ],
      "execution_count": 91,
      "outputs": [
        {
          "output_type": "stream",
          "text": [
            "The listed amount of the loan applied for by the borrower. If at some point in time, the credit department reduces the loan amount, then it will be reflected in this value.\n"
          ],
          "name": "stdout"
        }
      ]
    },
    {
      "cell_type": "code",
      "metadata": {
        "colab": {
          "base_uri": "https://localhost:8080/",
          "height": 295
        },
        "id": "6Gh-jr3PqGoS",
        "outputId": "390b0e59-34d0-40a9-b49b-b9ed4b905081"
      },
      "source": [
        "%config InlineBackend.figure_format ='retina'\n",
        "sns.scatterplot(x='installment',y='loan_amnt',data=df,)"
      ],
      "execution_count": 92,
      "outputs": [
        {
          "output_type": "execute_result",
          "data": {
            "text/plain": [
              "<matplotlib.axes._subplots.AxesSubplot at 0x7f4d9a1a17f0>"
            ]
          },
          "metadata": {
            "tags": []
          },
          "execution_count": 92
        },
        {
          "output_type": "display_data",
          "data": {
            "image/png": "[encoded data removed]",
            "text/plain": [
              "<Figure size 432x288 with 1 Axes>"
            ]
          },
          "metadata": {
            "tags": [],
            "image/png": {
              "width": 413,
              "height": 261
            },
            "needs_background": "light"
          }
        }
      ]
    },
    {
      "cell_type": "code",
      "metadata": {
        "colab": {
          "base_uri": "https://localhost:8080/",
          "height": 296
        },
        "id": "VyNRpTXMqMXv",
        "outputId": "1c4ca237-2bff-4b86-875c-15469deb61c9"
      },
      "source": [
        "sns.boxplot(x='loan_status',y='loan_amnt',data=df)"
      ],
      "execution_count": 93,
      "outputs": [
        {
          "output_type": "execute_result",
          "data": {
            "text/plain": [
              "<matplotlib.axes._subplots.AxesSubplot at 0x7f4d9a0f9c18>"
            ]
          },
          "metadata": {
            "tags": []
          },
          "execution_count": 93
        },
        {
          "output_type": "display_data",
          "data": {
            "image/png": "[encoded data removed]",
            "text/plain": [
              "<Figure size 432x288 with 1 Axes>"
            ]
          },
          "metadata": {
            "tags": [],
            "image/png": {
              "width": 402,
              "height": 262
            },
            "needs_background": "light"
          }
        }
      ]
    },
    {
      "cell_type": "code",
      "metadata": {
        "colab": {
          "base_uri": "https://localhost:8080/"
        },
        "id": "lBwiQZrarNGl",
        "outputId": "11e384e2-efff-44d4-c554-342a23a67ee7"
      },
      "source": [
        "df['grade'].unique()"
      ],
      "execution_count": 94,
      "outputs": [
        {
          "output_type": "execute_result",
          "data": {
            "text/plain": [
              "array(['B', 'A', 'C', 'E', 'D', 'F', 'G'], dtype=object)"
            ]
          },
          "metadata": {
            "tags": []
          },
          "execution_count": 94
        }
      ]
    },
    {
      "cell_type": "code",
      "metadata": {
        "colab": {
          "base_uri": "https://localhost:8080/"
        },
        "id": "eQZdTOaorP7y",
        "outputId": "40c268b2-993a-4193-e4ac-1d7020e43af6"
      },
      "source": [
        "df['sub_grade'].unique()"
      ],
      "execution_count": 95,
      "outputs": [
        {
          "output_type": "execute_result",
          "data": {
            "text/plain": [
              "array(['B4', 'B5', 'B3', 'A2', 'C5', 'C3', 'A1', 'B2', 'C1', 'A5', 'E4',\n",
              "       'A4', 'A3', 'D1', 'C2', 'B1', 'D3', 'D5', 'D2', 'E1', 'E2', 'E5',\n",
              "       'F4', 'E3', 'D4', 'G1', 'F5', 'G2', 'C4', 'F1', 'F3', 'G5', 'G4',\n",
              "       'F2', 'G3'], dtype=object)"
            ]
          },
          "metadata": {
            "tags": []
          },
          "execution_count": 95
        }
      ]
    },
    {
      "cell_type": "code",
      "metadata": {
        "colab": {
          "base_uri": "https://localhost:8080/",
          "height": 103
        },
        "id": "p6oMuJ0lrRuJ",
        "outputId": "18fbb05e-91da-4b1b-e32f-0fec302a6ba3"
      },
      "source": [
        "loan_stat_grade = ['loan_status','grade']\n",
        "cm = sns.light_palette(\"orange\", as_cmap=True)\n",
        "pd.crosstab(df[loan_stat_grade[0]], df[loan_stat_grade[1]]).style.background_gradient(cmap = cm)"
      ],
      "execution_count": 96,
      "outputs": [
        {
          "output_type": "execute_result",
          "data": {
            "text/html": [
              "<style  type=\"text/css\" >\n",
              "#T_54e05ca6_5cf1_11eb_950a_0242ac1c0002row0_col0,#T_54e05ca6_5cf1_11eb_950a_0242ac1c0002row0_col1,#T_54e05ca6_5cf1_11eb_950a_0242ac1c0002row0_col2,#T_54e05ca6_5cf1_11eb_950a_0242ac1c0002row0_col3,#T_54e05ca6_5cf1_11eb_950a_0242ac1c0002row0_col4,#T_54e05ca6_5cf1_11eb_950a_0242ac1c0002row0_col5,#T_54e05ca6_5cf1_11eb_950a_0242ac1c0002row0_col6{\n",
              "            background-color:  #f3f0ee;\n",
              "            color:  #000000;\n",
              "        }#T_54e05ca6_5cf1_11eb_950a_0242ac1c0002row1_col0,#T_54e05ca6_5cf1_11eb_950a_0242ac1c0002row1_col1,#T_54e05ca6_5cf1_11eb_950a_0242ac1c0002row1_col2,#T_54e05ca6_5cf1_11eb_950a_0242ac1c0002row1_col3,#T_54e05ca6_5cf1_11eb_950a_0242ac1c0002row1_col4,#T_54e05ca6_5cf1_11eb_950a_0242ac1c0002row1_col5,#T_54e05ca6_5cf1_11eb_950a_0242ac1c0002row1_col6{\n",
              "            background-color:  #ffa500;\n",
              "            color:  #000000;\n",
              "        }</style><table id=\"T_54e05ca6_5cf1_11eb_950a_0242ac1c0002\" ><thead>    <tr>        <th class=\"index_name level0\" >grade</th>        <th class=\"col_heading level0 col0\" >A</th>        <th class=\"col_heading level0 col1\" >B</th>        <th class=\"col_heading level0 col2\" >C</th>        <th class=\"col_heading level0 col3\" >D</th>        <th class=\"col_heading level0 col4\" >E</th>        <th class=\"col_heading level0 col5\" >F</th>        <th class=\"col_heading level0 col6\" >G</th>    </tr>    <tr>        <th class=\"index_name level0\" >loan_status</th>        <th class=\"blank\" ></th>        <th class=\"blank\" ></th>        <th class=\"blank\" ></th>        <th class=\"blank\" ></th>        <th class=\"blank\" ></th>        <th class=\"blank\" ></th>        <th class=\"blank\" ></th>    </tr></thead><tbody>\n",
              "                <tr>\n",
              "                        <th id=\"T_54e05ca6_5cf1_11eb_950a_0242ac1c0002level0_row0\" class=\"row_heading level0 row0\" >Charged Off</th>\n",
              "                        <td id=\"T_54e05ca6_5cf1_11eb_950a_0242ac1c0002row0_col0\" class=\"data row0 col0\" >4036</td>\n",
              "                        <td id=\"T_54e05ca6_5cf1_11eb_950a_0242ac1c0002row0_col1\" class=\"data row0 col1\" >14587</td>\n",
              "                        <td id=\"T_54e05ca6_5cf1_11eb_950a_0242ac1c0002row0_col2\" class=\"data row0 col2\" >22449</td>\n",
              "                        <td id=\"T_54e05ca6_5cf1_11eb_950a_0242ac1c0002row0_col3\" class=\"data row0 col3\" >18338</td>\n",
              "                        <td id=\"T_54e05ca6_5cf1_11eb_950a_0242ac1c0002row0_col4\" class=\"data row0 col4\" >11765</td>\n",
              "                        <td id=\"T_54e05ca6_5cf1_11eb_950a_0242ac1c0002row0_col5\" class=\"data row0 col5\" >5037</td>\n",
              "                        <td id=\"T_54e05ca6_5cf1_11eb_950a_0242ac1c0002row0_col6\" class=\"data row0 col6\" >1461</td>\n",
              "            </tr>\n",
              "            <tr>\n",
              "                        <th id=\"T_54e05ca6_5cf1_11eb_950a_0242ac1c0002level0_row1\" class=\"row_heading level0 row1\" >Fully Paid</th>\n",
              "                        <td id=\"T_54e05ca6_5cf1_11eb_950a_0242ac1c0002row1_col0\" class=\"data row1 col0\" >60151</td>\n",
              "                        <td id=\"T_54e05ca6_5cf1_11eb_950a_0242ac1c0002row1_col1\" class=\"data row1 col1\" >101431</td>\n",
              "                        <td id=\"T_54e05ca6_5cf1_11eb_950a_0242ac1c0002row1_col2\" class=\"data row1 col2\" >83538</td>\n",
              "                        <td id=\"T_54e05ca6_5cf1_11eb_950a_0242ac1c0002row1_col3\" class=\"data row1 col3\" >45186</td>\n",
              "                        <td id=\"T_54e05ca6_5cf1_11eb_950a_0242ac1c0002row1_col4\" class=\"data row1 col4\" >19723</td>\n",
              "                        <td id=\"T_54e05ca6_5cf1_11eb_950a_0242ac1c0002row1_col5\" class=\"data row1 col5\" >6735</td>\n",
              "                        <td id=\"T_54e05ca6_5cf1_11eb_950a_0242ac1c0002row1_col6\" class=\"data row1 col6\" >1593</td>\n",
              "            </tr>\n",
              "    </tbody></table>"
            ],
            "text/plain": [
              "<pandas.io.formats.style.Styler at 0x7f4db0e4e9b0>"
            ]
          },
          "metadata": {
            "tags": []
          },
          "execution_count": 96
        }
      ]
    },
    {
      "cell_type": "code",
      "metadata": {
        "colab": {
          "base_uri": "https://localhost:8080/",
          "height": 295
        },
        "id": "ZwYClfcHrU16",
        "outputId": "edab6983-d663-440b-c4bd-7fc993b80fe3"
      },
      "source": [
        "sns.countplot(x='grade',data=df,hue='loan_status')"
      ],
      "execution_count": 97,
      "outputs": [
        {
          "output_type": "execute_result",
          "data": {
            "text/plain": [
              "<matplotlib.axes._subplots.AxesSubplot at 0x7f4d9a076748>"
            ]
          },
          "metadata": {
            "tags": []
          },
          "execution_count": 97
        },
        {
          "output_type": "display_data",
          "data": {
            "image/png": "[encoded data removed]",
            "text/plain": [
              "<Figure size 432x288 with 1 Axes>"
            ]
          },
          "metadata": {
            "tags": [],
            "image/png": {
              "width": 408,
              "height": 261
            },
            "needs_background": "light"
          }
        }
      ]
    },
    {
      "cell_type": "code",
      "metadata": {
        "colab": {
          "base_uri": "https://localhost:8080/",
          "height": 296
        },
        "id": "GTvvucUBrXjh",
        "outputId": "8b8f5a8a-9422-4752-d15f-7e7d0db4e963"
      },
      "source": [
        "plt.figure(figsize=(12,4))\n",
        "subgrade_order = sorted(df['sub_grade'].unique())\n",
        "sns.countplot(x='sub_grade',data=df,order = subgrade_order,palette='coolwarm' )"
      ],
      "execution_count": 98,
      "outputs": [
        {
          "output_type": "execute_result",
          "data": {
            "text/plain": [
              "<matplotlib.axes._subplots.AxesSubplot at 0x7f4d9a06b5c0>"
            ]
          },
          "metadata": {
            "tags": []
          },
          "execution_count": 98
        },
        {
          "output_type": "display_data",
          "data": {
            "image/png": "[encoded data removed]",
            "text/plain": [
              "<Figure size 864x288 with 1 Axes>"
            ]
          },
          "metadata": {
            "tags": [],
            "image/png": {
              "width": 736,
              "height": 262
            },
            "needs_background": "light"
          }
        }
      ]
    },
    {
      "cell_type": "code",
      "metadata": {
        "colab": {
          "base_uri": "https://localhost:8080/",
          "height": 296
        },
        "id": "cRebq-RdraEU",
        "outputId": "487663c4-632c-4702-a881-4f37ddc9f0d2"
      },
      "source": [
        "plt.figure(figsize=(12,4))\n",
        "subgrade_order = sorted(df['sub_grade'].unique())\n",
        "sns.countplot(x='sub_grade',data=df,order = subgrade_order,palette='coolwarm', hue='loan_status' )"
      ],
      "execution_count": 99,
      "outputs": [
        {
          "output_type": "execute_result",
          "data": {
            "text/plain": [
              "<matplotlib.axes._subplots.AxesSubplot at 0x7f4d99ef5ac8>"
            ]
          },
          "metadata": {
            "tags": []
          },
          "execution_count": 99
        },
        {
          "output_type": "display_data",
          "data": {
            "image/png": "[encoded data removed]",
            "text/plain": [
              "<Figure size 864x288 with 1 Axes>"
            ]
          },
          "metadata": {
            "tags": [],
            "image/png": {
              "width": 736,
              "height": 262
            },
            "needs_background": "light"
          }
        }
      ]
    },
    {
      "cell_type": "markdown",
      "metadata": {
        "id": "Cn5zxw4_rhb5"
      },
      "source": [
        "Data Cleaning"
      ]
    },
    {
      "cell_type": "code",
      "metadata": {
        "colab": {
          "base_uri": "https://localhost:8080/",
          "height": 235
        },
        "id": "EHuYL2SNrdkQ",
        "outputId": "ff6e818c-dffa-435a-a992-d376e2f42380"
      },
      "source": [
        "def null_values(df):\n",
        "    nv=pd.concat([df.isnull().sum(), 100 * df.isnull().sum()/df.shape[0]],axis=1).rename(columns={0:'Missing_Records', 1:'Percentage (%)'})\n",
        "    return nv[nv.Missing_Records>0].sort_values('Missing_Records', ascending=False)\n",
        "null_values(df)"
      ],
      "execution_count": 100,
      "outputs": [
        {
          "output_type": "execute_result",
          "data": {
            "text/html": [
              "<div>\n",
              "<style scoped>\n",
              "    .dataframe tbody tr th:only-of-type {\n",
              "        vertical-align: middle;\n",
              "    }\n",
              "\n",
              "    .dataframe tbody tr th {\n",
              "        vertical-align: top;\n",
              "    }\n",
              "\n",
              "    .dataframe thead th {\n",
              "        text-align: right;\n",
              "    }\n",
              "</style>\n",
              "<table border=\"1\" class=\"dataframe\">\n",
              "  <thead>\n",
              "    <tr style=\"text-align: right;\">\n",
              "      <th></th>\n",
              "      <th>Missing_Records</th>\n",
              "      <th>Percentage (%)</th>\n",
              "    </tr>\n",
              "  </thead>\n",
              "  <tbody>\n",
              "    <tr>\n",
              "      <th>mort_acc</th>\n",
              "      <td>37795</td>\n",
              "      <td>9.543469</td>\n",
              "    </tr>\n",
              "    <tr>\n",
              "      <th>emp_title</th>\n",
              "      <td>22927</td>\n",
              "      <td>5.789208</td>\n",
              "    </tr>\n",
              "    <tr>\n",
              "      <th>emp_length</th>\n",
              "      <td>18301</td>\n",
              "      <td>4.621115</td>\n",
              "    </tr>\n",
              "    <tr>\n",
              "      <th>title</th>\n",
              "      <td>1755</td>\n",
              "      <td>0.443148</td>\n",
              "    </tr>\n",
              "    <tr>\n",
              "      <th>pub_rec_bankruptcies</th>\n",
              "      <td>535</td>\n",
              "      <td>0.135091</td>\n",
              "    </tr>\n",
              "    <tr>\n",
              "      <th>revol_util</th>\n",
              "      <td>276</td>\n",
              "      <td>0.069692</td>\n",
              "    </tr>\n",
              "  </tbody>\n",
              "</table>\n",
              "</div>"
            ],
            "text/plain": [
              "                      Missing_Records  Percentage (%)\n",
              "mort_acc                        37795        9.543469\n",
              "emp_title                       22927        5.789208\n",
              "emp_length                      18301        4.621115\n",
              "title                            1755        0.443148\n",
              "pub_rec_bankruptcies              535        0.135091\n",
              "revol_util                        276        0.069692"
            ]
          },
          "metadata": {
            "tags": []
          },
          "execution_count": 100
        }
      ]
    },
    {
      "cell_type": "code",
      "metadata": {
        "colab": {
          "base_uri": "https://localhost:8080/"
        },
        "id": "M7rb4z3lsyRv",
        "outputId": "1f15a844-b31e-4a72-9e16-a4a199ef9e68"
      },
      "source": [
        "df.isnull().sum()"
      ],
      "execution_count": 101,
      "outputs": [
        {
          "output_type": "execute_result",
          "data": {
            "text/plain": [
              "loan_amnt                   0\n",
              "term                        0\n",
              "int_rate                    0\n",
              "installment                 0\n",
              "grade                       0\n",
              "sub_grade                   0\n",
              "emp_title               22927\n",
              "emp_length              18301\n",
              "home_ownership              0\n",
              "annual_inc                  0\n",
              "verification_status         0\n",
              "issue_d                     0\n",
              "loan_status                 0\n",
              "purpose                     0\n",
              "title                    1755\n",
              "dti                         0\n",
              "earliest_cr_line            0\n",
              "open_acc                    0\n",
              "pub_rec                     0\n",
              "revol_bal                   0\n",
              "revol_util                276\n",
              "total_acc                   0\n",
              "initial_list_status         0\n",
              "application_type            0\n",
              "mort_acc                37795\n",
              "pub_rec_bankruptcies      535\n",
              "address                     0\n",
              "dtype: int64"
            ]
          },
          "metadata": {
            "tags": []
          },
          "execution_count": 101
        }
      ]
    },
    {
      "cell_type": "code",
      "metadata": {
        "colab": {
          "base_uri": "https://localhost:8080/"
        },
        "id": "FrBZthscrlPP",
        "outputId": "2e0e0f6d-b341-41c4-aa47-a6b32cf7d2c1"
      },
      "source": [
        "100* df.isnull().sum()/len(df) # yüzdeliğine bakmak için hesaplama yaptık"
      ],
      "execution_count": 102,
      "outputs": [
        {
          "output_type": "execute_result",
          "data": {
            "text/plain": [
              "loan_amnt               0.000000\n",
              "term                    0.000000\n",
              "int_rate                0.000000\n",
              "installment             0.000000\n",
              "grade                   0.000000\n",
              "sub_grade               0.000000\n",
              "emp_title               5.789208\n",
              "emp_length              4.621115\n",
              "home_ownership          0.000000\n",
              "annual_inc              0.000000\n",
              "verification_status     0.000000\n",
              "issue_d                 0.000000\n",
              "loan_status             0.000000\n",
              "purpose                 0.000000\n",
              "title                   0.443148\n",
              "dti                     0.000000\n",
              "earliest_cr_line        0.000000\n",
              "open_acc                0.000000\n",
              "pub_rec                 0.000000\n",
              "revol_bal               0.000000\n",
              "revol_util              0.069692\n",
              "total_acc               0.000000\n",
              "initial_list_status     0.000000\n",
              "application_type        0.000000\n",
              "mort_acc                9.543469\n",
              "pub_rec_bankruptcies    0.135091\n",
              "address                 0.000000\n",
              "dtype: float64"
            ]
          },
          "metadata": {
            "tags": []
          },
          "execution_count": 102
        }
      ]
    },
    {
      "cell_type": "code",
      "metadata": {
        "colab": {
          "base_uri": "https://localhost:8080/"
        },
        "id": "t-K75xZastDV",
        "outputId": "0078b495-d9c8-49de-e21e-9a4878039715"
      },
      "source": [
        "feat_info ('emp_title')\n",
        "print('\\n')\n",
        "feat_info ('emp_length')"
      ],
      "execution_count": 103,
      "outputs": [
        {
          "output_type": "stream",
          "text": [
            "The job title supplied by the Borrower when applying for the loan.*\n",
            "\n",
            "\n",
            "Employment length in years. Possible values are between 0 and 10 where 0 means less than one year and 10 means ten or more years. \n"
          ],
          "name": "stdout"
        }
      ]
    },
    {
      "cell_type": "code",
      "metadata": {
        "colab": {
          "base_uri": "https://localhost:8080/"
        },
        "id": "eW3ABqGnvtN3",
        "outputId": "75acf5b9-7c9a-421a-de29-c602062232da"
      },
      "source": [
        "df['emp_title'].nunique()"
      ],
      "execution_count": 104,
      "outputs": [
        {
          "output_type": "execute_result",
          "data": {
            "text/plain": [
              "173105"
            ]
          },
          "metadata": {
            "tags": []
          },
          "execution_count": 104
        }
      ]
    },
    {
      "cell_type": "code",
      "metadata": {
        "colab": {
          "base_uri": "https://localhost:8080/"
        },
        "id": "tX539f8bvem3",
        "outputId": "2900508e-d92d-4344-bbf5-41630d67578d"
      },
      "source": [
        "df['emp_title'].value_counts()"
      ],
      "execution_count": 105,
      "outputs": [
        {
          "output_type": "execute_result",
          "data": {
            "text/plain": [
              "Teacher                                   4389\n",
              "Manager                                   4250\n",
              "Registered Nurse                          1856\n",
              "RN                                        1846\n",
              "Supervisor                                1830\n",
              "                                          ... \n",
              "Staten Island University Hospital            1\n",
              "Infection Control Asst.                      1\n",
              "Hilton Boston Logan Airport                  1\n",
              "CARDIOLOGY AND INTERNAL MEDICINE OF LI       1\n",
              "FRCSE JACKSONVILLE                           1\n",
              "Name: emp_title, Length: 173105, dtype: int64"
            ]
          },
          "metadata": {
            "tags": []
          },
          "execution_count": 105
        }
      ]
    },
    {
      "cell_type": "code",
      "metadata": {
        "id": "8GnOtsqmvn9T"
      },
      "source": [
        "df = df.drop('emp_title', axis=1)"
      ],
      "execution_count": 106,
      "outputs": []
    },
    {
      "cell_type": "code",
      "metadata": {
        "colab": {
          "base_uri": "https://localhost:8080/"
        },
        "id": "PePMKL5RvzbB",
        "outputId": "7c0237fb-ba6c-4cd2-f0c5-9227e2d9a989"
      },
      "source": [
        "df['emp_length'].value_counts()"
      ],
      "execution_count": 107,
      "outputs": [
        {
          "output_type": "execute_result",
          "data": {
            "text/plain": [
              "10+ years    126041\n",
              "2 years       35827\n",
              "< 1 year      31725\n",
              "3 years       31665\n",
              "5 years       26495\n",
              "1 year        25882\n",
              "4 years       23952\n",
              "6 years       20841\n",
              "7 years       20819\n",
              "8 years       19168\n",
              "9 years       15314\n",
              "Name: emp_length, dtype: int64"
            ]
          },
          "metadata": {
            "tags": []
          },
          "execution_count": 107
        }
      ]
    },
    {
      "cell_type": "code",
      "metadata": {
        "colab": {
          "base_uri": "https://localhost:8080/",
          "height": 605
        },
        "id": "8Vmvg0fYv1oZ",
        "outputId": "74bd30e8-308a-4e8a-af28-31bce2636881"
      },
      "source": [
        "emp_length_order = ['1 year',\n",
        " '10+ years',\n",
        " '2 years',\n",
        " '3 years',\n",
        " '4 years',\n",
        " '5 years',\n",
        " '6 years',\n",
        " '7 years',\n",
        " '8 years',\n",
        " '9 years',\n",
        " '< 1 year']\n",
        "\n",
        "emp_length_order = sorted(df['emp_length'].dropna().unique())\n",
        "plt.figure(figsize=(18,10))\n",
        "sns.countplot(x='emp_length',data=df,order=emp_length_order);"
      ],
      "execution_count": 108,
      "outputs": [
        {
          "output_type": "display_data",
          "data": {
            "image/png": "[encoded data removed]",
            "text/plain": [
              "<Figure size 1296x720 with 1 Axes>"
            ]
          },
          "metadata": {
            "tags": [],
            "image/png": {
              "width": 1077,
              "height": 588
            },
            "needs_background": "light"
          }
        }
      ]
    },
    {
      "cell_type": "code",
      "metadata": {
        "colab": {
          "base_uri": "https://localhost:8080/",
          "height": 558
        },
        "id": "bQDD_iFxv9tQ",
        "outputId": "1ca69ddc-e682-48ed-b138-aa70c4e903ba"
      },
      "source": [
        "plt.figure(figsize=(12,4))\n",
        "sns.countplot(x='emp_length',data=df,order=emp_length_order)\n",
        "plt.figure(figsize=(12,4))\n",
        "sns.countplot(x='emp_length',data=df,order=emp_length_order,hue='loan_status')"
      ],
      "execution_count": 109,
      "outputs": [
        {
          "output_type": "execute_result",
          "data": {
            "text/plain": [
              "<matplotlib.axes._subplots.AxesSubplot at 0x7f4d9a1e7dd8>"
            ]
          },
          "metadata": {
            "tags": []
          },
          "execution_count": 109
        },
        {
          "output_type": "display_data",
          "data": {
            "image/png": "[encoded data removed]",
            "text/plain": [
              "<Figure size 864x288 with 1 Axes>"
            ]
          },
          "metadata": {
            "tags": [],
            "image/png": {
              "width": 743,
              "height": 262
            },
            "needs_background": "light"
          }
        },
        {
          "output_type": "display_data",
          "data": {
            "image/png": "[encoded data removed]",
            "text/plain": [
              "<Figure size 864x288 with 1 Axes>"
            ]
          },
          "metadata": {
            "tags": [],
            "image/png": {
              "width": 743,
              "height": 262
            },
            "needs_background": "light"
          }
        }
      ]
    },
    {
      "cell_type": "code",
      "metadata": {
        "id": "GrLB0kz3wOYB"
      },
      "source": [
        "df=df.drop('emp_length', axis=1)"
      ],
      "execution_count": 110,
      "outputs": []
    },
    {
      "cell_type": "code",
      "metadata": {
        "colab": {
          "base_uri": "https://localhost:8080/"
        },
        "id": "QaqPVO2uwS0x",
        "outputId": "6ff80c89-9285-4c3e-af65-82ab3e1e3a61"
      },
      "source": [
        "df.isnull().sum()"
      ],
      "execution_count": 111,
      "outputs": [
        {
          "output_type": "execute_result",
          "data": {
            "text/plain": [
              "loan_amnt                   0\n",
              "term                        0\n",
              "int_rate                    0\n",
              "installment                 0\n",
              "grade                       0\n",
              "sub_grade                   0\n",
              "home_ownership              0\n",
              "annual_inc                  0\n",
              "verification_status         0\n",
              "issue_d                     0\n",
              "loan_status                 0\n",
              "purpose                     0\n",
              "title                    1755\n",
              "dti                         0\n",
              "earliest_cr_line            0\n",
              "open_acc                    0\n",
              "pub_rec                     0\n",
              "revol_bal                   0\n",
              "revol_util                276\n",
              "total_acc                   0\n",
              "initial_list_status         0\n",
              "application_type            0\n",
              "mort_acc                37795\n",
              "pub_rec_bankruptcies      535\n",
              "address                     0\n",
              "dtype: int64"
            ]
          },
          "metadata": {
            "tags": []
          },
          "execution_count": 111
        }
      ]
    },
    {
      "cell_type": "code",
      "metadata": {
        "colab": {
          "base_uri": "https://localhost:8080/",
          "height": 419
        },
        "id": "APw7ZsH5wU9F",
        "outputId": "6ee694b9-6921-43b6-d8f7-70208f4fb6f1"
      },
      "source": [
        "df[['title', 'purpose']]"
      ],
      "execution_count": 112,
      "outputs": [
        {
          "output_type": "execute_result",
          "data": {
            "text/html": [
              "<div>\n",
              "<style scoped>\n",
              "    .dataframe tbody tr th:only-of-type {\n",
              "        vertical-align: middle;\n",
              "    }\n",
              "\n",
              "    .dataframe tbody tr th {\n",
              "        vertical-align: top;\n",
              "    }\n",
              "\n",
              "    .dataframe thead th {\n",
              "        text-align: right;\n",
              "    }\n",
              "</style>\n",
              "<table border=\"1\" class=\"dataframe\">\n",
              "  <thead>\n",
              "    <tr style=\"text-align: right;\">\n",
              "      <th></th>\n",
              "      <th>title</th>\n",
              "      <th>purpose</th>\n",
              "    </tr>\n",
              "  </thead>\n",
              "  <tbody>\n",
              "    <tr>\n",
              "      <th>0</th>\n",
              "      <td>Vacation</td>\n",
              "      <td>vacation</td>\n",
              "    </tr>\n",
              "    <tr>\n",
              "      <th>1</th>\n",
              "      <td>Debt consolidation</td>\n",
              "      <td>debt_consolidation</td>\n",
              "    </tr>\n",
              "    <tr>\n",
              "      <th>2</th>\n",
              "      <td>Credit card refinancing</td>\n",
              "      <td>credit_card</td>\n",
              "    </tr>\n",
              "    <tr>\n",
              "      <th>3</th>\n",
              "      <td>Credit card refinancing</td>\n",
              "      <td>credit_card</td>\n",
              "    </tr>\n",
              "    <tr>\n",
              "      <th>4</th>\n",
              "      <td>Credit Card Refinance</td>\n",
              "      <td>credit_card</td>\n",
              "    </tr>\n",
              "    <tr>\n",
              "      <th>...</th>\n",
              "      <td>...</td>\n",
              "      <td>...</td>\n",
              "    </tr>\n",
              "    <tr>\n",
              "      <th>396025</th>\n",
              "      <td>Debt consolidation</td>\n",
              "      <td>debt_consolidation</td>\n",
              "    </tr>\n",
              "    <tr>\n",
              "      <th>396026</th>\n",
              "      <td>Debt consolidation</td>\n",
              "      <td>debt_consolidation</td>\n",
              "    </tr>\n",
              "    <tr>\n",
              "      <th>396027</th>\n",
              "      <td>pay off credit cards</td>\n",
              "      <td>debt_consolidation</td>\n",
              "    </tr>\n",
              "    <tr>\n",
              "      <th>396028</th>\n",
              "      <td>Loanforpayoff</td>\n",
              "      <td>debt_consolidation</td>\n",
              "    </tr>\n",
              "    <tr>\n",
              "      <th>396029</th>\n",
              "      <td>Toxic Debt Payoff</td>\n",
              "      <td>debt_consolidation</td>\n",
              "    </tr>\n",
              "  </tbody>\n",
              "</table>\n",
              "<p>396030 rows × 2 columns</p>\n",
              "</div>"
            ],
            "text/plain": [
              "                          title             purpose\n",
              "0                      Vacation            vacation\n",
              "1            Debt consolidation  debt_consolidation\n",
              "2       Credit card refinancing         credit_card\n",
              "3       Credit card refinancing         credit_card\n",
              "4         Credit Card Refinance         credit_card\n",
              "...                         ...                 ...\n",
              "396025       Debt consolidation  debt_consolidation\n",
              "396026       Debt consolidation  debt_consolidation\n",
              "396027     pay off credit cards  debt_consolidation\n",
              "396028            Loanforpayoff  debt_consolidation\n",
              "396029        Toxic Debt Payoff  debt_consolidation\n",
              "\n",
              "[396030 rows x 2 columns]"
            ]
          },
          "metadata": {
            "tags": []
          },
          "execution_count": 112
        }
      ]
    },
    {
      "cell_type": "code",
      "metadata": {
        "id": "rNLscc3VwoI2"
      },
      "source": [
        "df=df.drop('title', axis=1)"
      ],
      "execution_count": 113,
      "outputs": []
    },
    {
      "cell_type": "code",
      "metadata": {
        "colab": {
          "base_uri": "https://localhost:8080/"
        },
        "id": "np1gB-Gwwr60",
        "outputId": "de6cd8b0-0a8f-484d-e729-75315fe35ad8"
      },
      "source": [
        "df.isnull().sum()"
      ],
      "execution_count": 114,
      "outputs": [
        {
          "output_type": "execute_result",
          "data": {
            "text/plain": [
              "loan_amnt                   0\n",
              "term                        0\n",
              "int_rate                    0\n",
              "installment                 0\n",
              "grade                       0\n",
              "sub_grade                   0\n",
              "home_ownership              0\n",
              "annual_inc                  0\n",
              "verification_status         0\n",
              "issue_d                     0\n",
              "loan_status                 0\n",
              "purpose                     0\n",
              "dti                         0\n",
              "earliest_cr_line            0\n",
              "open_acc                    0\n",
              "pub_rec                     0\n",
              "revol_bal                   0\n",
              "revol_util                276\n",
              "total_acc                   0\n",
              "initial_list_status         0\n",
              "application_type            0\n",
              "mort_acc                37795\n",
              "pub_rec_bankruptcies      535\n",
              "address                     0\n",
              "dtype: int64"
            ]
          },
          "metadata": {
            "tags": []
          },
          "execution_count": 114
        }
      ]
    },
    {
      "cell_type": "code",
      "metadata": {
        "colab": {
          "base_uri": "https://localhost:8080/"
        },
        "id": "9s46yhDswtwW",
        "outputId": "46b75ab0-7ea3-4b1e-b51f-2a6ad99d4ed3"
      },
      "source": [
        "df['mort_acc'].value_counts()"
      ],
      "execution_count": 115,
      "outputs": [
        {
          "output_type": "execute_result",
          "data": {
            "text/plain": [
              "0.0     139777\n",
              "1.0      60416\n",
              "2.0      49948\n",
              "3.0      38049\n",
              "4.0      27887\n",
              "5.0      18194\n",
              "6.0      11069\n",
              "7.0       6052\n",
              "8.0       3121\n",
              "9.0       1656\n",
              "10.0       865\n",
              "11.0       479\n",
              "12.0       264\n",
              "13.0       146\n",
              "14.0       107\n",
              "15.0        61\n",
              "16.0        37\n",
              "17.0        22\n",
              "18.0        18\n",
              "19.0        15\n",
              "20.0        13\n",
              "24.0        10\n",
              "22.0         7\n",
              "21.0         4\n",
              "25.0         4\n",
              "27.0         3\n",
              "23.0         2\n",
              "32.0         2\n",
              "26.0         2\n",
              "31.0         2\n",
              "30.0         1\n",
              "28.0         1\n",
              "34.0         1\n",
              "Name: mort_acc, dtype: int64"
            ]
          },
          "metadata": {
            "tags": []
          },
          "execution_count": 115
        }
      ]
    },
    {
      "cell_type": "code",
      "metadata": {
        "colab": {
          "base_uri": "https://localhost:8080/"
        },
        "id": "vji6P5htwwVm",
        "outputId": "58d36f93-9ab6-490c-c528-8d28970d7f07"
      },
      "source": [
        "df.corr()['mort_acc'].sort_values()"
      ],
      "execution_count": 116,
      "outputs": [
        {
          "output_type": "execute_result",
          "data": {
            "text/plain": [
              "int_rate               -0.082583\n",
              "dti                    -0.025439\n",
              "revol_util              0.007514\n",
              "pub_rec                 0.011552\n",
              "pub_rec_bankruptcies    0.027239\n",
              "open_acc                0.109205\n",
              "installment             0.193694\n",
              "revol_bal               0.194925\n",
              "loan_amnt               0.222315\n",
              "annual_inc              0.236320\n",
              "total_acc               0.381072\n",
              "mort_acc                1.000000\n",
              "Name: mort_acc, dtype: float64"
            ]
          },
          "metadata": {
            "tags": []
          },
          "execution_count": 116
        }
      ]
    },
    {
      "cell_type": "markdown",
      "metadata": {
        "id": "2xD01tPIxF-P"
      },
      "source": [
        "**Handle with Missing Data**"
      ]
    },
    {
      "cell_type": "code",
      "metadata": {
        "colab": {
          "base_uri": "https://localhost:8080/"
        },
        "id": "HRaRtb5VxS6q",
        "outputId": "93a29b51-1f87-4be0-d23d-6d1e5761e4b4"
      },
      "source": [
        "feat_info('title')"
      ],
      "execution_count": 117,
      "outputs": [
        {
          "output_type": "stream",
          "text": [
            "The loan title provided by the borrower\n"
          ],
          "name": "stdout"
        }
      ]
    },
    {
      "cell_type": "code",
      "metadata": {
        "colab": {
          "base_uri": "https://localhost:8080/"
        },
        "id": "HO29D8KCxYzQ",
        "outputId": "41a271d5-291f-4899-8be3-1b0c4d49a1e6"
      },
      "source": [
        "feat_info('purpose')"
      ],
      "execution_count": 118,
      "outputs": [
        {
          "output_type": "stream",
          "text": [
            "A category provided by the borrower for the loan request. \n"
          ],
          "name": "stdout"
        }
      ]
    },
    {
      "cell_type": "code",
      "metadata": {
        "colab": {
          "base_uri": "https://localhost:8080/"
        },
        "id": "HN-w6irSw0Ou",
        "outputId": "b5f309b5-06db-4a26-b7c0-63a5a7213fc6"
      },
      "source": [
        "df.groupby('total_acc').mean()['mort_acc']"
      ],
      "execution_count": 119,
      "outputs": [
        {
          "output_type": "execute_result",
          "data": {
            "text/plain": [
              "total_acc\n",
              "2.0      0.000000\n",
              "3.0      0.052023\n",
              "4.0      0.066743\n",
              "5.0      0.103289\n",
              "6.0      0.151293\n",
              "           ...   \n",
              "124.0    1.000000\n",
              "129.0    1.000000\n",
              "135.0    3.000000\n",
              "150.0    2.000000\n",
              "151.0    0.000000\n",
              "Name: mort_acc, Length: 118, dtype: float64"
            ]
          },
          "metadata": {
            "tags": []
          },
          "execution_count": 119
        }
      ]
    },
    {
      "cell_type": "code",
      "metadata": {
        "id": "JN72wi5cxN4n"
      },
      "source": [
        "total_acc_avg = df.groupby('total_acc').mean()['mort_acc']"
      ],
      "execution_count": 120,
      "outputs": []
    },
    {
      "cell_type": "code",
      "metadata": {
        "colab": {
          "base_uri": "https://localhost:8080/"
        },
        "id": "PjEGf6n6xid8",
        "outputId": "0ad3364b-13d9-4de8-bd98-3816ff69d116"
      },
      "source": [
        "total_acc_avg[3.0]"
      ],
      "execution_count": 121,
      "outputs": [
        {
          "output_type": "execute_result",
          "data": {
            "text/plain": [
              "0.05202312138728324"
            ]
          },
          "metadata": {
            "tags": []
          },
          "execution_count": 121
        }
      ]
    },
    {
      "cell_type": "code",
      "metadata": {
        "id": "S54-yBbGxrlk"
      },
      "source": [
        "def fill_mort_acc(total_acc,mort_acc):\n",
        "    if np.isnan(mort_acc):\n",
        "        return total_acc_avg[total_acc]\n",
        "    else:\n",
        "        return mort_acc"
      ],
      "execution_count": 122,
      "outputs": []
    },
    {
      "cell_type": "code",
      "metadata": {
        "id": "tllyZnbcx6Bk"
      },
      "source": [
        "import numpy as np\n",
        "df['mort_acc']=df.apply(lambda x: fill_mort_acc(x['total_acc'], x['mort_acc']), axis=1)"
      ],
      "execution_count": 123,
      "outputs": []
    },
    {
      "cell_type": "code",
      "metadata": {
        "colab": {
          "base_uri": "https://localhost:8080/"
        },
        "id": "f2PCW9pDxx2D",
        "outputId": "4c940e23-79f0-4f3a-d561-30e8bbf690ab"
      },
      "source": [
        "df.isnull().sum()"
      ],
      "execution_count": 124,
      "outputs": [
        {
          "output_type": "execute_result",
          "data": {
            "text/plain": [
              "loan_amnt                 0\n",
              "term                      0\n",
              "int_rate                  0\n",
              "installment               0\n",
              "grade                     0\n",
              "sub_grade                 0\n",
              "home_ownership            0\n",
              "annual_inc                0\n",
              "verification_status       0\n",
              "issue_d                   0\n",
              "loan_status               0\n",
              "purpose                   0\n",
              "dti                       0\n",
              "earliest_cr_line          0\n",
              "open_acc                  0\n",
              "pub_rec                   0\n",
              "revol_bal                 0\n",
              "revol_util              276\n",
              "total_acc                 0\n",
              "initial_list_status       0\n",
              "application_type          0\n",
              "mort_acc                  0\n",
              "pub_rec_bankruptcies    535\n",
              "address                   0\n",
              "dtype: int64"
            ]
          },
          "metadata": {
            "tags": []
          },
          "execution_count": 124
        }
      ]
    },
    {
      "cell_type": "code",
      "metadata": {
        "id": "fKZ6F4GIx0Na"
      },
      "source": [
        "df=df.dropna()"
      ],
      "execution_count": 125,
      "outputs": []
    },
    {
      "cell_type": "code",
      "metadata": {
        "colab": {
          "base_uri": "https://localhost:8080/"
        },
        "id": "vQ2jgilAyHer",
        "outputId": "c13b8b24-4d01-41d1-8f24-378e2abb217d"
      },
      "source": [
        "df.isnull().sum()"
      ],
      "execution_count": 126,
      "outputs": [
        {
          "output_type": "execute_result",
          "data": {
            "text/plain": [
              "loan_amnt               0\n",
              "term                    0\n",
              "int_rate                0\n",
              "installment             0\n",
              "grade                   0\n",
              "sub_grade               0\n",
              "home_ownership          0\n",
              "annual_inc              0\n",
              "verification_status     0\n",
              "issue_d                 0\n",
              "loan_status             0\n",
              "purpose                 0\n",
              "dti                     0\n",
              "earliest_cr_line        0\n",
              "open_acc                0\n",
              "pub_rec                 0\n",
              "revol_bal               0\n",
              "revol_util              0\n",
              "total_acc               0\n",
              "initial_list_status     0\n",
              "application_type        0\n",
              "mort_acc                0\n",
              "pub_rec_bankruptcies    0\n",
              "address                 0\n",
              "dtype: int64"
            ]
          },
          "metadata": {
            "tags": []
          },
          "execution_count": 126
        }
      ]
    },
    {
      "cell_type": "code",
      "metadata": {
        "colab": {
          "base_uri": "https://localhost:8080/"
        },
        "id": "ThoCirKFyJa-",
        "outputId": "c08b5cbd-4e24-4c36-8a8b-2d045e1ffb2e"
      },
      "source": [
        "df.info()"
      ],
      "execution_count": 127,
      "outputs": [
        {
          "output_type": "stream",
          "text": [
            "<class 'pandas.core.frame.DataFrame'>\n",
            "Int64Index: 395219 entries, 0 to 396029\n",
            "Data columns (total 24 columns):\n",
            " #   Column                Non-Null Count   Dtype  \n",
            "---  ------                --------------   -----  \n",
            " 0   loan_amnt             395219 non-null  float64\n",
            " 1   term                  395219 non-null  object \n",
            " 2   int_rate              395219 non-null  float64\n",
            " 3   installment           395219 non-null  float64\n",
            " 4   grade                 395219 non-null  object \n",
            " 5   sub_grade             395219 non-null  object \n",
            " 6   home_ownership        395219 non-null  object \n",
            " 7   annual_inc            395219 non-null  float64\n",
            " 8   verification_status   395219 non-null  object \n",
            " 9   issue_d               395219 non-null  object \n",
            " 10  loan_status           395219 non-null  object \n",
            " 11  purpose               395219 non-null  object \n",
            " 12  dti                   395219 non-null  float64\n",
            " 13  earliest_cr_line      395219 non-null  object \n",
            " 14  open_acc              395219 non-null  float64\n",
            " 15  pub_rec               395219 non-null  float64\n",
            " 16  revol_bal             395219 non-null  float64\n",
            " 17  revol_util            395219 non-null  float64\n",
            " 18  total_acc             395219 non-null  float64\n",
            " 19  initial_list_status   395219 non-null  object \n",
            " 20  application_type      395219 non-null  object \n",
            " 21  mort_acc              395219 non-null  float64\n",
            " 22  pub_rec_bankruptcies  395219 non-null  float64\n",
            " 23  address               395219 non-null  object \n",
            "dtypes: float64(12), object(12)\n",
            "memory usage: 75.4+ MB\n"
          ],
          "name": "stdout"
        }
      ]
    },
    {
      "cell_type": "markdown",
      "metadata": {
        "id": "wRM6hOs5zHbC"
      },
      "source": [
        "***Handling with Missing Data***"
      ]
    },
    {
      "cell_type": "code",
      "metadata": {
        "colab": {
          "base_uri": "https://localhost:8080/"
        },
        "id": "nZmgxkJ7yMCJ",
        "outputId": "04f18dfe-9f5d-4d24-ce2b-463ecd22745e"
      },
      "source": [
        "df.select_dtypes(['object']).columns"
      ],
      "execution_count": 128,
      "outputs": [
        {
          "output_type": "execute_result",
          "data": {
            "text/plain": [
              "Index(['term', 'grade', 'sub_grade', 'home_ownership', 'verification_status',\n",
              "       'issue_d', 'loan_status', 'purpose', 'earliest_cr_line',\n",
              "       'initial_list_status', 'application_type', 'address'],\n",
              "      dtype='object')"
            ]
          },
          "metadata": {
            "tags": []
          },
          "execution_count": 128
        }
      ]
    },
    {
      "cell_type": "code",
      "metadata": {
        "colab": {
          "base_uri": "https://localhost:8080/"
        },
        "id": "QSBqBCzkzC2I",
        "outputId": "ed3cd065-e183-4ccd-bd24-67e0bbfc5d2c"
      },
      "source": [
        "df['term'].value_counts()"
      ],
      "execution_count": 129,
      "outputs": [
        {
          "output_type": "execute_result",
          "data": {
            "text/plain": [
              " 36 months    301247\n",
              " 60 months     93972\n",
              "Name: term, dtype: int64"
            ]
          },
          "metadata": {
            "tags": []
          },
          "execution_count": 129
        }
      ]
    },
    {
      "cell_type": "code",
      "metadata": {
        "colab": {
          "base_uri": "https://localhost:8080/",
          "height": 394
        },
        "id": "NZLJPf2NzFkg",
        "outputId": "f1f50b54-eb76-4fbb-ae65-b4ddc7c417ff"
      },
      "source": [
        "df['term'] = df['term'].apply(lambda term: int(term[:3]))\n",
        "df.head()"
      ],
      "execution_count": 130,
      "outputs": [
        {
          "output_type": "execute_result",
          "data": {
            "text/html": [
              "<div>\n",
              "<style scoped>\n",
              "    .dataframe tbody tr th:only-of-type {\n",
              "        vertical-align: middle;\n",
              "    }\n",
              "\n",
              "    .dataframe tbody tr th {\n",
              "        vertical-align: top;\n",
              "    }\n",
              "\n",
              "    .dataframe thead th {\n",
              "        text-align: right;\n",
              "    }\n",
              "</style>\n",
              "<table border=\"1\" class=\"dataframe\">\n",
              "  <thead>\n",
              "    <tr style=\"text-align: right;\">\n",
              "      <th></th>\n",
              "      <th>loan_amnt</th>\n",
              "      <th>term</th>\n",
              "      <th>int_rate</th>\n",
              "      <th>installment</th>\n",
              "      <th>grade</th>\n",
              "      <th>sub_grade</th>\n",
              "      <th>home_ownership</th>\n",
              "      <th>annual_inc</th>\n",
              "      <th>verification_status</th>\n",
              "      <th>issue_d</th>\n",
              "      <th>loan_status</th>\n",
              "      <th>purpose</th>\n",
              "      <th>dti</th>\n",
              "      <th>earliest_cr_line</th>\n",
              "      <th>open_acc</th>\n",
              "      <th>pub_rec</th>\n",
              "      <th>revol_bal</th>\n",
              "      <th>revol_util</th>\n",
              "      <th>total_acc</th>\n",
              "      <th>initial_list_status</th>\n",
              "      <th>application_type</th>\n",
              "      <th>mort_acc</th>\n",
              "      <th>pub_rec_bankruptcies</th>\n",
              "      <th>address</th>\n",
              "    </tr>\n",
              "  </thead>\n",
              "  <tbody>\n",
              "    <tr>\n",
              "      <th>0</th>\n",
              "      <td>10000.0</td>\n",
              "      <td>36</td>\n",
              "      <td>11.44</td>\n",
              "      <td>329.48</td>\n",
              "      <td>B</td>\n",
              "      <td>B4</td>\n",
              "      <td>RENT</td>\n",
              "      <td>117000.0</td>\n",
              "      <td>Not Verified</td>\n",
              "      <td>Jan-2015</td>\n",
              "      <td>Fully Paid</td>\n",
              "      <td>vacation</td>\n",
              "      <td>26.24</td>\n",
              "      <td>Jun-1990</td>\n",
              "      <td>16.0</td>\n",
              "      <td>0.0</td>\n",
              "      <td>36369.0</td>\n",
              "      <td>41.8</td>\n",
              "      <td>25.0</td>\n",
              "      <td>w</td>\n",
              "      <td>INDIVIDUAL</td>\n",
              "      <td>0.0</td>\n",
              "      <td>0.0</td>\n",
              "      <td>0174 Michelle Gateway\\nMendozaberg, OK 22690</td>\n",
              "    </tr>\n",
              "    <tr>\n",
              "      <th>1</th>\n",
              "      <td>8000.0</td>\n",
              "      <td>36</td>\n",
              "      <td>11.99</td>\n",
              "      <td>265.68</td>\n",
              "      <td>B</td>\n",
              "      <td>B5</td>\n",
              "      <td>MORTGAGE</td>\n",
              "      <td>65000.0</td>\n",
              "      <td>Not Verified</td>\n",
              "      <td>Jan-2015</td>\n",
              "      <td>Fully Paid</td>\n",
              "      <td>debt_consolidation</td>\n",
              "      <td>22.05</td>\n",
              "      <td>Jul-2004</td>\n",
              "      <td>17.0</td>\n",
              "      <td>0.0</td>\n",
              "      <td>20131.0</td>\n",
              "      <td>53.3</td>\n",
              "      <td>27.0</td>\n",
              "      <td>f</td>\n",
              "      <td>INDIVIDUAL</td>\n",
              "      <td>3.0</td>\n",
              "      <td>0.0</td>\n",
              "      <td>1076 Carney Fort Apt. 347\\nLoganmouth, SD 05113</td>\n",
              "    </tr>\n",
              "    <tr>\n",
              "      <th>2</th>\n",
              "      <td>15600.0</td>\n",
              "      <td>36</td>\n",
              "      <td>10.49</td>\n",
              "      <td>506.97</td>\n",
              "      <td>B</td>\n",
              "      <td>B3</td>\n",
              "      <td>RENT</td>\n",
              "      <td>43057.0</td>\n",
              "      <td>Source Verified</td>\n",
              "      <td>Jan-2015</td>\n",
              "      <td>Fully Paid</td>\n",
              "      <td>credit_card</td>\n",
              "      <td>12.79</td>\n",
              "      <td>Aug-2007</td>\n",
              "      <td>13.0</td>\n",
              "      <td>0.0</td>\n",
              "      <td>11987.0</td>\n",
              "      <td>92.2</td>\n",
              "      <td>26.0</td>\n",
              "      <td>f</td>\n",
              "      <td>INDIVIDUAL</td>\n",
              "      <td>0.0</td>\n",
              "      <td>0.0</td>\n",
              "      <td>87025 Mark Dale Apt. 269\\nNew Sabrina, WV 05113</td>\n",
              "    </tr>\n",
              "    <tr>\n",
              "      <th>3</th>\n",
              "      <td>7200.0</td>\n",
              "      <td>36</td>\n",
              "      <td>6.49</td>\n",
              "      <td>220.65</td>\n",
              "      <td>A</td>\n",
              "      <td>A2</td>\n",
              "      <td>RENT</td>\n",
              "      <td>54000.0</td>\n",
              "      <td>Not Verified</td>\n",
              "      <td>Nov-2014</td>\n",
              "      <td>Fully Paid</td>\n",
              "      <td>credit_card</td>\n",
              "      <td>2.60</td>\n",
              "      <td>Sep-2006</td>\n",
              "      <td>6.0</td>\n",
              "      <td>0.0</td>\n",
              "      <td>5472.0</td>\n",
              "      <td>21.5</td>\n",
              "      <td>13.0</td>\n",
              "      <td>f</td>\n",
              "      <td>INDIVIDUAL</td>\n",
              "      <td>0.0</td>\n",
              "      <td>0.0</td>\n",
              "      <td>823 Reid Ford\\nDelacruzside, MA 00813</td>\n",
              "    </tr>\n",
              "    <tr>\n",
              "      <th>4</th>\n",
              "      <td>24375.0</td>\n",
              "      <td>60</td>\n",
              "      <td>17.27</td>\n",
              "      <td>609.33</td>\n",
              "      <td>C</td>\n",
              "      <td>C5</td>\n",
              "      <td>MORTGAGE</td>\n",
              "      <td>55000.0</td>\n",
              "      <td>Verified</td>\n",
              "      <td>Apr-2013</td>\n",
              "      <td>Charged Off</td>\n",
              "      <td>credit_card</td>\n",
              "      <td>33.95</td>\n",
              "      <td>Mar-1999</td>\n",
              "      <td>13.0</td>\n",
              "      <td>0.0</td>\n",
              "      <td>24584.0</td>\n",
              "      <td>69.8</td>\n",
              "      <td>43.0</td>\n",
              "      <td>f</td>\n",
              "      <td>INDIVIDUAL</td>\n",
              "      <td>1.0</td>\n",
              "      <td>0.0</td>\n",
              "      <td>679 Luna Roads\\nGreggshire, VA 11650</td>\n",
              "    </tr>\n",
              "  </tbody>\n",
              "</table>\n",
              "</div>"
            ],
            "text/plain": [
              "   loan_amnt  ...                                          address\n",
              "0    10000.0  ...     0174 Michelle Gateway\\nMendozaberg, OK 22690\n",
              "1     8000.0  ...  1076 Carney Fort Apt. 347\\nLoganmouth, SD 05113\n",
              "2    15600.0  ...  87025 Mark Dale Apt. 269\\nNew Sabrina, WV 05113\n",
              "3     7200.0  ...            823 Reid Ford\\nDelacruzside, MA 00813\n",
              "4    24375.0  ...             679 Luna Roads\\nGreggshire, VA 11650\n",
              "\n",
              "[5 rows x 24 columns]"
            ]
          },
          "metadata": {
            "tags": []
          },
          "execution_count": 130
        }
      ]
    },
    {
      "cell_type": "code",
      "metadata": {
        "id": "G5UryXWBzWab"
      },
      "source": [
        "df=df.drop('grade',axis=1)"
      ],
      "execution_count": 131,
      "outputs": []
    },
    {
      "cell_type": "code",
      "metadata": {
        "id": "QsnuUqQ-z09h"
      },
      "source": [
        "subgrade_dummies = pd.get_dummies(df['sub_grade'],drop_first=True)"
      ],
      "execution_count": 132,
      "outputs": []
    },
    {
      "cell_type": "code",
      "metadata": {
        "id": "-gxfdNiZ0AED"
      },
      "source": [
        "df = pd.concat([df.drop('sub_grade',axis=1),subgrade_dummies],axis=1)"
      ],
      "execution_count": 133,
      "outputs": []
    },
    {
      "cell_type": "code",
      "metadata": {
        "colab": {
          "base_uri": "https://localhost:8080/"
        },
        "id": "Nr6b02k90C87",
        "outputId": "08c7e424-efb4-4df4-e8c0-f5d326139808"
      },
      "source": [
        "df.info()"
      ],
      "execution_count": 134,
      "outputs": [
        {
          "output_type": "stream",
          "text": [
            "<class 'pandas.core.frame.DataFrame'>\n",
            "Int64Index: 395219 entries, 0 to 396029\n",
            "Data columns (total 56 columns):\n",
            " #   Column                Non-Null Count   Dtype  \n",
            "---  ------                --------------   -----  \n",
            " 0   loan_amnt             395219 non-null  float64\n",
            " 1   term                  395219 non-null  int64  \n",
            " 2   int_rate              395219 non-null  float64\n",
            " 3   installment           395219 non-null  float64\n",
            " 4   home_ownership        395219 non-null  object \n",
            " 5   annual_inc            395219 non-null  float64\n",
            " 6   verification_status   395219 non-null  object \n",
            " 7   issue_d               395219 non-null  object \n",
            " 8   loan_status           395219 non-null  object \n",
            " 9   purpose               395219 non-null  object \n",
            " 10  dti                   395219 non-null  float64\n",
            " 11  earliest_cr_line      395219 non-null  object \n",
            " 12  open_acc              395219 non-null  float64\n",
            " 13  pub_rec               395219 non-null  float64\n",
            " 14  revol_bal             395219 non-null  float64\n",
            " 15  revol_util            395219 non-null  float64\n",
            " 16  total_acc             395219 non-null  float64\n",
            " 17  initial_list_status   395219 non-null  object \n",
            " 18  application_type      395219 non-null  object \n",
            " 19  mort_acc              395219 non-null  float64\n",
            " 20  pub_rec_bankruptcies  395219 non-null  float64\n",
            " 21  address               395219 non-null  object \n",
            " 22  A2                    395219 non-null  uint8  \n",
            " 23  A3                    395219 non-null  uint8  \n",
            " 24  A4                    395219 non-null  uint8  \n",
            " 25  A5                    395219 non-null  uint8  \n",
            " 26  B1                    395219 non-null  uint8  \n",
            " 27  B2                    395219 non-null  uint8  \n",
            " 28  B3                    395219 non-null  uint8  \n",
            " 29  B4                    395219 non-null  uint8  \n",
            " 30  B5                    395219 non-null  uint8  \n",
            " 31  C1                    395219 non-null  uint8  \n",
            " 32  C2                    395219 non-null  uint8  \n",
            " 33  C3                    395219 non-null  uint8  \n",
            " 34  C4                    395219 non-null  uint8  \n",
            " 35  C5                    395219 non-null  uint8  \n",
            " 36  D1                    395219 non-null  uint8  \n",
            " 37  D2                    395219 non-null  uint8  \n",
            " 38  D3                    395219 non-null  uint8  \n",
            " 39  D4                    395219 non-null  uint8  \n",
            " 40  D5                    395219 non-null  uint8  \n",
            " 41  E1                    395219 non-null  uint8  \n",
            " 42  E2                    395219 non-null  uint8  \n",
            " 43  E3                    395219 non-null  uint8  \n",
            " 44  E4                    395219 non-null  uint8  \n",
            " 45  E5                    395219 non-null  uint8  \n",
            " 46  F1                    395219 non-null  uint8  \n",
            " 47  F2                    395219 non-null  uint8  \n",
            " 48  F3                    395219 non-null  uint8  \n",
            " 49  F4                    395219 non-null  uint8  \n",
            " 50  F5                    395219 non-null  uint8  \n",
            " 51  G1                    395219 non-null  uint8  \n",
            " 52  G2                    395219 non-null  uint8  \n",
            " 53  G3                    395219 non-null  uint8  \n",
            " 54  G4                    395219 non-null  uint8  \n",
            " 55  G5                    395219 non-null  uint8  \n",
            "dtypes: float64(12), int64(1), object(9), uint8(34)\n",
            "memory usage: 82.2+ MB\n"
          ],
          "name": "stdout"
        }
      ]
    },
    {
      "cell_type": "code",
      "metadata": {
        "colab": {
          "base_uri": "https://localhost:8080/"
        },
        "id": "mU1ta1pt0Exz",
        "outputId": "d415e217-5f4c-4fb8-e4ac-64d321e5537c"
      },
      "source": [
        "df.select_dtypes(['object']).columns"
      ],
      "execution_count": 135,
      "outputs": [
        {
          "output_type": "execute_result",
          "data": {
            "text/plain": [
              "Index(['home_ownership', 'verification_status', 'issue_d', 'loan_status',\n",
              "       'purpose', 'earliest_cr_line', 'initial_list_status',\n",
              "       'application_type', 'address'],\n",
              "      dtype='object')"
            ]
          },
          "metadata": {
            "tags": []
          },
          "execution_count": 135
        }
      ]
    },
    {
      "cell_type": "code",
      "metadata": {
        "id": "AFWadXty0JWj"
      },
      "source": [
        "dummies = pd.get_dummies(df[['verification_status', 'application_type','initial_list_status','purpose' ]],drop_first=True)\n",
        "df = df.drop(['verification_status', 'application_type','initial_list_status','purpose'],axis=1)\n",
        "df = pd.concat([df,dummies],axis=1)"
      ],
      "execution_count": 136,
      "outputs": []
    },
    {
      "cell_type": "code",
      "metadata": {
        "colab": {
          "base_uri": "https://localhost:8080/"
        },
        "id": "ptLEdtYe0O8o",
        "outputId": "18cc8f53-6311-4378-b156-4a366c15c117"
      },
      "source": [
        "df.info()"
      ],
      "execution_count": 137,
      "outputs": [
        {
          "output_type": "stream",
          "text": [
            "<class 'pandas.core.frame.DataFrame'>\n",
            "Int64Index: 395219 entries, 0 to 396029\n",
            "Data columns (total 70 columns):\n",
            " #   Column                               Non-Null Count   Dtype  \n",
            "---  ------                               --------------   -----  \n",
            " 0   loan_amnt                            395219 non-null  float64\n",
            " 1   term                                 395219 non-null  int64  \n",
            " 2   int_rate                             395219 non-null  float64\n",
            " 3   installment                          395219 non-null  float64\n",
            " 4   home_ownership                       395219 non-null  object \n",
            " 5   annual_inc                           395219 non-null  float64\n",
            " 6   issue_d                              395219 non-null  object \n",
            " 7   loan_status                          395219 non-null  object \n",
            " 8   dti                                  395219 non-null  float64\n",
            " 9   earliest_cr_line                     395219 non-null  object \n",
            " 10  open_acc                             395219 non-null  float64\n",
            " 11  pub_rec                              395219 non-null  float64\n",
            " 12  revol_bal                            395219 non-null  float64\n",
            " 13  revol_util                           395219 non-null  float64\n",
            " 14  total_acc                            395219 non-null  float64\n",
            " 15  mort_acc                             395219 non-null  float64\n",
            " 16  pub_rec_bankruptcies                 395219 non-null  float64\n",
            " 17  address                              395219 non-null  object \n",
            " 18  A2                                   395219 non-null  uint8  \n",
            " 19  A3                                   395219 non-null  uint8  \n",
            " 20  A4                                   395219 non-null  uint8  \n",
            " 21  A5                                   395219 non-null  uint8  \n",
            " 22  B1                                   395219 non-null  uint8  \n",
            " 23  B2                                   395219 non-null  uint8  \n",
            " 24  B3                                   395219 non-null  uint8  \n",
            " 25  B4                                   395219 non-null  uint8  \n",
            " 26  B5                                   395219 non-null  uint8  \n",
            " 27  C1                                   395219 non-null  uint8  \n",
            " 28  C2                                   395219 non-null  uint8  \n",
            " 29  C3                                   395219 non-null  uint8  \n",
            " 30  C4                                   395219 non-null  uint8  \n",
            " 31  C5                                   395219 non-null  uint8  \n",
            " 32  D1                                   395219 non-null  uint8  \n",
            " 33  D2                                   395219 non-null  uint8  \n",
            " 34  D3                                   395219 non-null  uint8  \n",
            " 35  D4                                   395219 non-null  uint8  \n",
            " 36  D5                                   395219 non-null  uint8  \n",
            " 37  E1                                   395219 non-null  uint8  \n",
            " 38  E2                                   395219 non-null  uint8  \n",
            " 39  E3                                   395219 non-null  uint8  \n",
            " 40  E4                                   395219 non-null  uint8  \n",
            " 41  E5                                   395219 non-null  uint8  \n",
            " 42  F1                                   395219 non-null  uint8  \n",
            " 43  F2                                   395219 non-null  uint8  \n",
            " 44  F3                                   395219 non-null  uint8  \n",
            " 45  F4                                   395219 non-null  uint8  \n",
            " 46  F5                                   395219 non-null  uint8  \n",
            " 47  G1                                   395219 non-null  uint8  \n",
            " 48  G2                                   395219 non-null  uint8  \n",
            " 49  G3                                   395219 non-null  uint8  \n",
            " 50  G4                                   395219 non-null  uint8  \n",
            " 51  G5                                   395219 non-null  uint8  \n",
            " 52  verification_status_Source Verified  395219 non-null  uint8  \n",
            " 53  verification_status_Verified         395219 non-null  uint8  \n",
            " 54  application_type_INDIVIDUAL          395219 non-null  uint8  \n",
            " 55  application_type_JOINT               395219 non-null  uint8  \n",
            " 56  initial_list_status_w                395219 non-null  uint8  \n",
            " 57  purpose_credit_card                  395219 non-null  uint8  \n",
            " 58  purpose_debt_consolidation           395219 non-null  uint8  \n",
            " 59  purpose_educational                  395219 non-null  uint8  \n",
            " 60  purpose_home_improvement             395219 non-null  uint8  \n",
            " 61  purpose_house                        395219 non-null  uint8  \n",
            " 62  purpose_major_purchase               395219 non-null  uint8  \n",
            " 63  purpose_medical                      395219 non-null  uint8  \n",
            " 64  purpose_moving                       395219 non-null  uint8  \n",
            " 65  purpose_other                        395219 non-null  uint8  \n",
            " 66  purpose_renewable_energy             395219 non-null  uint8  \n",
            " 67  purpose_small_business               395219 non-null  uint8  \n",
            " 68  purpose_vacation                     395219 non-null  uint8  \n",
            " 69  purpose_wedding                      395219 non-null  uint8  \n",
            "dtypes: float64(12), int64(1), object(5), uint8(52)\n",
            "memory usage: 76.9+ MB\n"
          ],
          "name": "stdout"
        }
      ]
    },
    {
      "cell_type": "code",
      "metadata": {
        "colab": {
          "base_uri": "https://localhost:8080/"
        },
        "id": "mLNIcy7S0Qj0",
        "outputId": "e658c18f-e218-476e-d974-d281f60d1dfd"
      },
      "source": [
        "df['home_ownership'].value_counts()"
      ],
      "execution_count": 138,
      "outputs": [
        {
          "output_type": "execute_result",
          "data": {
            "text/plain": [
              "MORTGAGE    198022\n",
              "RENT        159395\n",
              "OWN          37660\n",
              "OTHER          110\n",
              "NONE            29\n",
              "ANY              3\n",
              "Name: home_ownership, dtype: int64"
            ]
          },
          "metadata": {
            "tags": []
          },
          "execution_count": 138
        }
      ]
    },
    {
      "cell_type": "code",
      "metadata": {
        "id": "YAKMeYPc0XeP"
      },
      "source": [
        "df['home_ownership']=df['home_ownership'].replace(['NONE', 'ANY'], 'OTHER')"
      ],
      "execution_count": 139,
      "outputs": []
    },
    {
      "cell_type": "code",
      "metadata": {
        "id": "20dvYtpr0aWS"
      },
      "source": [
        "dummies = pd.get_dummies(df['home_ownership'],drop_first=True)\n",
        "df = df.drop('home_ownership',axis=1)\n",
        "df = pd.concat([df,dummies],axis=1)"
      ],
      "execution_count": 140,
      "outputs": []
    },
    {
      "cell_type": "code",
      "metadata": {
        "colab": {
          "base_uri": "https://localhost:8080/"
        },
        "id": "eSVV1_9Z0eTM",
        "outputId": "37049308-ff37-4aa7-97ad-c089d4c98627"
      },
      "source": [
        "df.info()"
      ],
      "execution_count": 141,
      "outputs": [
        {
          "output_type": "stream",
          "text": [
            "<class 'pandas.core.frame.DataFrame'>\n",
            "Int64Index: 395219 entries, 0 to 396029\n",
            "Data columns (total 72 columns):\n",
            " #   Column                               Non-Null Count   Dtype  \n",
            "---  ------                               --------------   -----  \n",
            " 0   loan_amnt                            395219 non-null  float64\n",
            " 1   term                                 395219 non-null  int64  \n",
            " 2   int_rate                             395219 non-null  float64\n",
            " 3   installment                          395219 non-null  float64\n",
            " 4   annual_inc                           395219 non-null  float64\n",
            " 5   issue_d                              395219 non-null  object \n",
            " 6   loan_status                          395219 non-null  object \n",
            " 7   dti                                  395219 non-null  float64\n",
            " 8   earliest_cr_line                     395219 non-null  object \n",
            " 9   open_acc                             395219 non-null  float64\n",
            " 10  pub_rec                              395219 non-null  float64\n",
            " 11  revol_bal                            395219 non-null  float64\n",
            " 12  revol_util                           395219 non-null  float64\n",
            " 13  total_acc                            395219 non-null  float64\n",
            " 14  mort_acc                             395219 non-null  float64\n",
            " 15  pub_rec_bankruptcies                 395219 non-null  float64\n",
            " 16  address                              395219 non-null  object \n",
            " 17  A2                                   395219 non-null  uint8  \n",
            " 18  A3                                   395219 non-null  uint8  \n",
            " 19  A4                                   395219 non-null  uint8  \n",
            " 20  A5                                   395219 non-null  uint8  \n",
            " 21  B1                                   395219 non-null  uint8  \n",
            " 22  B2                                   395219 non-null  uint8  \n",
            " 23  B3                                   395219 non-null  uint8  \n",
            " 24  B4                                   395219 non-null  uint8  \n",
            " 25  B5                                   395219 non-null  uint8  \n",
            " 26  C1                                   395219 non-null  uint8  \n",
            " 27  C2                                   395219 non-null  uint8  \n",
            " 28  C3                                   395219 non-null  uint8  \n",
            " 29  C4                                   395219 non-null  uint8  \n",
            " 30  C5                                   395219 non-null  uint8  \n",
            " 31  D1                                   395219 non-null  uint8  \n",
            " 32  D2                                   395219 non-null  uint8  \n",
            " 33  D3                                   395219 non-null  uint8  \n",
            " 34  D4                                   395219 non-null  uint8  \n",
            " 35  D5                                   395219 non-null  uint8  \n",
            " 36  E1                                   395219 non-null  uint8  \n",
            " 37  E2                                   395219 non-null  uint8  \n",
            " 38  E3                                   395219 non-null  uint8  \n",
            " 39  E4                                   395219 non-null  uint8  \n",
            " 40  E5                                   395219 non-null  uint8  \n",
            " 41  F1                                   395219 non-null  uint8  \n",
            " 42  F2                                   395219 non-null  uint8  \n",
            " 43  F3                                   395219 non-null  uint8  \n",
            " 44  F4                                   395219 non-null  uint8  \n",
            " 45  F5                                   395219 non-null  uint8  \n",
            " 46  G1                                   395219 non-null  uint8  \n",
            " 47  G2                                   395219 non-null  uint8  \n",
            " 48  G3                                   395219 non-null  uint8  \n",
            " 49  G4                                   395219 non-null  uint8  \n",
            " 50  G5                                   395219 non-null  uint8  \n",
            " 51  verification_status_Source Verified  395219 non-null  uint8  \n",
            " 52  verification_status_Verified         395219 non-null  uint8  \n",
            " 53  application_type_INDIVIDUAL          395219 non-null  uint8  \n",
            " 54  application_type_JOINT               395219 non-null  uint8  \n",
            " 55  initial_list_status_w                395219 non-null  uint8  \n",
            " 56  purpose_credit_card                  395219 non-null  uint8  \n",
            " 57  purpose_debt_consolidation           395219 non-null  uint8  \n",
            " 58  purpose_educational                  395219 non-null  uint8  \n",
            " 59  purpose_home_improvement             395219 non-null  uint8  \n",
            " 60  purpose_house                        395219 non-null  uint8  \n",
            " 61  purpose_major_purchase               395219 non-null  uint8  \n",
            " 62  purpose_medical                      395219 non-null  uint8  \n",
            " 63  purpose_moving                       395219 non-null  uint8  \n",
            " 64  purpose_other                        395219 non-null  uint8  \n",
            " 65  purpose_renewable_energy             395219 non-null  uint8  \n",
            " 66  purpose_small_business               395219 non-null  uint8  \n",
            " 67  purpose_vacation                     395219 non-null  uint8  \n",
            " 68  purpose_wedding                      395219 non-null  uint8  \n",
            " 69  OTHER                                395219 non-null  uint8  \n",
            " 70  OWN                                  395219 non-null  uint8  \n",
            " 71  RENT                                 395219 non-null  uint8  \n",
            "dtypes: float64(12), int64(1), object(4), uint8(55)\n",
            "memory usage: 75.0+ MB\n"
          ],
          "name": "stdout"
        }
      ]
    },
    {
      "cell_type": "code",
      "metadata": {
        "id": "A7WUy3ok0gYP"
      },
      "source": [
        "df['zip_code']=df['address'].apply(lambda address:address[-5:])"
      ],
      "execution_count": 142,
      "outputs": []
    },
    {
      "cell_type": "code",
      "metadata": {
        "id": "02O-XMys0mXS"
      },
      "source": [
        "dummies = pd.get_dummies(df['zip_code'],drop_first=True)\n",
        "df = df.drop(['zip_code','address'],axis=1)\n",
        "df = pd.concat([df,dummies],axis=1)\n",
        "df = df.drop('issue_d',axis=1)"
      ],
      "execution_count": 143,
      "outputs": []
    },
    {
      "cell_type": "code",
      "metadata": {
        "id": "zjuYN5he0obG"
      },
      "source": [
        "df['earliest_cr_year'] = df['earliest_cr_line'].apply(lambda date:int(date[-4:]))\n",
        "df = df.drop('earliest_cr_line',axis=1)"
      ],
      "execution_count": 144,
      "outputs": []
    },
    {
      "cell_type": "code",
      "metadata": {
        "colab": {
          "base_uri": "https://localhost:8080/"
        },
        "id": "GC-Cnbup0qof",
        "outputId": "337bfc32-74cf-4f82-cf5a-5bbef19f2123"
      },
      "source": [
        "df.select_dtypes(['object']).columns"
      ],
      "execution_count": 145,
      "outputs": [
        {
          "output_type": "execute_result",
          "data": {
            "text/plain": [
              "Index(['loan_status'], dtype='object')"
            ]
          },
          "metadata": {
            "tags": []
          },
          "execution_count": 145
        }
      ]
    },
    {
      "cell_type": "code",
      "metadata": {
        "colab": {
          "base_uri": "https://localhost:8080/",
          "height": 241
        },
        "id": "9JgR89SY0sW9",
        "outputId": "2b00f29f-6dc6-476d-cbb7-a144624ba939"
      },
      "source": [
        "df.head()"
      ],
      "execution_count": 146,
      "outputs": [
        {
          "output_type": "execute_result",
          "data": {
            "text/html": [
              "<div>\n",
              "<style scoped>\n",
              "    .dataframe tbody tr th:only-of-type {\n",
              "        vertical-align: middle;\n",
              "    }\n",
              "\n",
              "    .dataframe tbody tr th {\n",
              "        vertical-align: top;\n",
              "    }\n",
              "\n",
              "    .dataframe thead th {\n",
              "        text-align: right;\n",
              "    }\n",
              "</style>\n",
              "<table border=\"1\" class=\"dataframe\">\n",
              "  <thead>\n",
              "    <tr style=\"text-align: right;\">\n",
              "      <th></th>\n",
              "      <th>loan_amnt</th>\n",
              "      <th>term</th>\n",
              "      <th>int_rate</th>\n",
              "      <th>installment</th>\n",
              "      <th>annual_inc</th>\n",
              "      <th>loan_status</th>\n",
              "      <th>dti</th>\n",
              "      <th>open_acc</th>\n",
              "      <th>pub_rec</th>\n",
              "      <th>revol_bal</th>\n",
              "      <th>revol_util</th>\n",
              "      <th>total_acc</th>\n",
              "      <th>mort_acc</th>\n",
              "      <th>pub_rec_bankruptcies</th>\n",
              "      <th>A2</th>\n",
              "      <th>A3</th>\n",
              "      <th>A4</th>\n",
              "      <th>A5</th>\n",
              "      <th>B1</th>\n",
              "      <th>B2</th>\n",
              "      <th>B3</th>\n",
              "      <th>B4</th>\n",
              "      <th>B5</th>\n",
              "      <th>C1</th>\n",
              "      <th>C2</th>\n",
              "      <th>C3</th>\n",
              "      <th>C4</th>\n",
              "      <th>C5</th>\n",
              "      <th>D1</th>\n",
              "      <th>D2</th>\n",
              "      <th>D3</th>\n",
              "      <th>D4</th>\n",
              "      <th>D5</th>\n",
              "      <th>E1</th>\n",
              "      <th>E2</th>\n",
              "      <th>E3</th>\n",
              "      <th>E4</th>\n",
              "      <th>E5</th>\n",
              "      <th>F1</th>\n",
              "      <th>F2</th>\n",
              "      <th>F3</th>\n",
              "      <th>F4</th>\n",
              "      <th>F5</th>\n",
              "      <th>G1</th>\n",
              "      <th>G2</th>\n",
              "      <th>G3</th>\n",
              "      <th>G4</th>\n",
              "      <th>G5</th>\n",
              "      <th>verification_status_Source Verified</th>\n",
              "      <th>verification_status_Verified</th>\n",
              "      <th>application_type_INDIVIDUAL</th>\n",
              "      <th>application_type_JOINT</th>\n",
              "      <th>initial_list_status_w</th>\n",
              "      <th>purpose_credit_card</th>\n",
              "      <th>purpose_debt_consolidation</th>\n",
              "      <th>purpose_educational</th>\n",
              "      <th>purpose_home_improvement</th>\n",
              "      <th>purpose_house</th>\n",
              "      <th>purpose_major_purchase</th>\n",
              "      <th>purpose_medical</th>\n",
              "      <th>purpose_moving</th>\n",
              "      <th>purpose_other</th>\n",
              "      <th>purpose_renewable_energy</th>\n",
              "      <th>purpose_small_business</th>\n",
              "      <th>purpose_vacation</th>\n",
              "      <th>purpose_wedding</th>\n",
              "      <th>OTHER</th>\n",
              "      <th>OWN</th>\n",
              "      <th>RENT</th>\n",
              "      <th>05113</th>\n",
              "      <th>11650</th>\n",
              "      <th>22690</th>\n",
              "      <th>29597</th>\n",
              "      <th>30723</th>\n",
              "      <th>48052</th>\n",
              "      <th>70466</th>\n",
              "      <th>86630</th>\n",
              "      <th>93700</th>\n",
              "      <th>earliest_cr_year</th>\n",
              "    </tr>\n",
              "  </thead>\n",
              "  <tbody>\n",
              "    <tr>\n",
              "      <th>0</th>\n",
              "      <td>10000.0</td>\n",
              "      <td>36</td>\n",
              "      <td>11.44</td>\n",
              "      <td>329.48</td>\n",
              "      <td>117000.0</td>\n",
              "      <td>Fully Paid</td>\n",
              "      <td>26.24</td>\n",
              "      <td>16.0</td>\n",
              "      <td>0.0</td>\n",
              "      <td>36369.0</td>\n",
              "      <td>41.8</td>\n",
              "      <td>25.0</td>\n",
              "      <td>0.0</td>\n",
              "      <td>0.0</td>\n",
              "      <td>0</td>\n",
              "      <td>0</td>\n",
              "      <td>0</td>\n",
              "      <td>0</td>\n",
              "      <td>0</td>\n",
              "      <td>0</td>\n",
              "      <td>0</td>\n",
              "      <td>1</td>\n",
              "      <td>0</td>\n",
              "      <td>0</td>\n",
              "      <td>0</td>\n",
              "      <td>0</td>\n",
              "      <td>0</td>\n",
              "      <td>0</td>\n",
              "      <td>0</td>\n",
              "      <td>0</td>\n",
              "      <td>0</td>\n",
              "      <td>0</td>\n",
              "      <td>0</td>\n",
              "      <td>0</td>\n",
              "      <td>0</td>\n",
              "      <td>0</td>\n",
              "      <td>0</td>\n",
              "      <td>0</td>\n",
              "      <td>0</td>\n",
              "      <td>0</td>\n",
              "      <td>0</td>\n",
              "      <td>0</td>\n",
              "      <td>0</td>\n",
              "      <td>0</td>\n",
              "      <td>0</td>\n",
              "      <td>0</td>\n",
              "      <td>0</td>\n",
              "      <td>0</td>\n",
              "      <td>0</td>\n",
              "      <td>0</td>\n",
              "      <td>1</td>\n",
              "      <td>0</td>\n",
              "      <td>1</td>\n",
              "      <td>0</td>\n",
              "      <td>0</td>\n",
              "      <td>0</td>\n",
              "      <td>0</td>\n",
              "      <td>0</td>\n",
              "      <td>0</td>\n",
              "      <td>0</td>\n",
              "      <td>0</td>\n",
              "      <td>0</td>\n",
              "      <td>0</td>\n",
              "      <td>0</td>\n",
              "      <td>1</td>\n",
              "      <td>0</td>\n",
              "      <td>0</td>\n",
              "      <td>0</td>\n",
              "      <td>1</td>\n",
              "      <td>0</td>\n",
              "      <td>0</td>\n",
              "      <td>1</td>\n",
              "      <td>0</td>\n",
              "      <td>0</td>\n",
              "      <td>0</td>\n",
              "      <td>0</td>\n",
              "      <td>0</td>\n",
              "      <td>0</td>\n",
              "      <td>1990</td>\n",
              "    </tr>\n",
              "    <tr>\n",
              "      <th>1</th>\n",
              "      <td>8000.0</td>\n",
              "      <td>36</td>\n",
              "      <td>11.99</td>\n",
              "      <td>265.68</td>\n",
              "      <td>65000.0</td>\n",
              "      <td>Fully Paid</td>\n",
              "      <td>22.05</td>\n",
              "      <td>17.0</td>\n",
              "      <td>0.0</td>\n",
              "      <td>20131.0</td>\n",
              "      <td>53.3</td>\n",
              "      <td>27.0</td>\n",
              "      <td>3.0</td>\n",
              "      <td>0.0</td>\n",
              "      <td>0</td>\n",
              "      <td>0</td>\n",
              "      <td>0</td>\n",
              "      <td>0</td>\n",
              "      <td>0</td>\n",
              "      <td>0</td>\n",
              "      <td>0</td>\n",
              "      <td>0</td>\n",
              "      <td>1</td>\n",
              "      <td>0</td>\n",
              "      <td>0</td>\n",
              "      <td>0</td>\n",
              "      <td>0</td>\n",
              "      <td>0</td>\n",
              "      <td>0</td>\n",
              "      <td>0</td>\n",
              "      <td>0</td>\n",
              "      <td>0</td>\n",
              "      <td>0</td>\n",
              "      <td>0</td>\n",
              "      <td>0</td>\n",
              "      <td>0</td>\n",
              "      <td>0</td>\n",
              "      <td>0</td>\n",
              "      <td>0</td>\n",
              "      <td>0</td>\n",
              "      <td>0</td>\n",
              "      <td>0</td>\n",
              "      <td>0</td>\n",
              "      <td>0</td>\n",
              "      <td>0</td>\n",
              "      <td>0</td>\n",
              "      <td>0</td>\n",
              "      <td>0</td>\n",
              "      <td>0</td>\n",
              "      <td>0</td>\n",
              "      <td>1</td>\n",
              "      <td>0</td>\n",
              "      <td>0</td>\n",
              "      <td>0</td>\n",
              "      <td>1</td>\n",
              "      <td>0</td>\n",
              "      <td>0</td>\n",
              "      <td>0</td>\n",
              "      <td>0</td>\n",
              "      <td>0</td>\n",
              "      <td>0</td>\n",
              "      <td>0</td>\n",
              "      <td>0</td>\n",
              "      <td>0</td>\n",
              "      <td>0</td>\n",
              "      <td>0</td>\n",
              "      <td>0</td>\n",
              "      <td>0</td>\n",
              "      <td>0</td>\n",
              "      <td>1</td>\n",
              "      <td>0</td>\n",
              "      <td>0</td>\n",
              "      <td>0</td>\n",
              "      <td>0</td>\n",
              "      <td>0</td>\n",
              "      <td>0</td>\n",
              "      <td>0</td>\n",
              "      <td>0</td>\n",
              "      <td>2004</td>\n",
              "    </tr>\n",
              "    <tr>\n",
              "      <th>2</th>\n",
              "      <td>15600.0</td>\n",
              "      <td>36</td>\n",
              "      <td>10.49</td>\n",
              "      <td>506.97</td>\n",
              "      <td>43057.0</td>\n",
              "      <td>Fully Paid</td>\n",
              "      <td>12.79</td>\n",
              "      <td>13.0</td>\n",
              "      <td>0.0</td>\n",
              "      <td>11987.0</td>\n",
              "      <td>92.2</td>\n",
              "      <td>26.0</td>\n",
              "      <td>0.0</td>\n",
              "      <td>0.0</td>\n",
              "      <td>0</td>\n",
              "      <td>0</td>\n",
              "      <td>0</td>\n",
              "      <td>0</td>\n",
              "      <td>0</td>\n",
              "      <td>0</td>\n",
              "      <td>1</td>\n",
              "      <td>0</td>\n",
              "      <td>0</td>\n",
              "      <td>0</td>\n",
              "      <td>0</td>\n",
              "      <td>0</td>\n",
              "      <td>0</td>\n",
              "      <td>0</td>\n",
              "      <td>0</td>\n",
              "      <td>0</td>\n",
              "      <td>0</td>\n",
              "      <td>0</td>\n",
              "      <td>0</td>\n",
              "      <td>0</td>\n",
              "      <td>0</td>\n",
              "      <td>0</td>\n",
              "      <td>0</td>\n",
              "      <td>0</td>\n",
              "      <td>0</td>\n",
              "      <td>0</td>\n",
              "      <td>0</td>\n",
              "      <td>0</td>\n",
              "      <td>0</td>\n",
              "      <td>0</td>\n",
              "      <td>0</td>\n",
              "      <td>0</td>\n",
              "      <td>0</td>\n",
              "      <td>0</td>\n",
              "      <td>1</td>\n",
              "      <td>0</td>\n",
              "      <td>1</td>\n",
              "      <td>0</td>\n",
              "      <td>0</td>\n",
              "      <td>1</td>\n",
              "      <td>0</td>\n",
              "      <td>0</td>\n",
              "      <td>0</td>\n",
              "      <td>0</td>\n",
              "      <td>0</td>\n",
              "      <td>0</td>\n",
              "      <td>0</td>\n",
              "      <td>0</td>\n",
              "      <td>0</td>\n",
              "      <td>0</td>\n",
              "      <td>0</td>\n",
              "      <td>0</td>\n",
              "      <td>0</td>\n",
              "      <td>0</td>\n",
              "      <td>1</td>\n",
              "      <td>1</td>\n",
              "      <td>0</td>\n",
              "      <td>0</td>\n",
              "      <td>0</td>\n",
              "      <td>0</td>\n",
              "      <td>0</td>\n",
              "      <td>0</td>\n",
              "      <td>0</td>\n",
              "      <td>0</td>\n",
              "      <td>2007</td>\n",
              "    </tr>\n",
              "    <tr>\n",
              "      <th>3</th>\n",
              "      <td>7200.0</td>\n",
              "      <td>36</td>\n",
              "      <td>6.49</td>\n",
              "      <td>220.65</td>\n",
              "      <td>54000.0</td>\n",
              "      <td>Fully Paid</td>\n",
              "      <td>2.60</td>\n",
              "      <td>6.0</td>\n",
              "      <td>0.0</td>\n",
              "      <td>5472.0</td>\n",
              "      <td>21.5</td>\n",
              "      <td>13.0</td>\n",
              "      <td>0.0</td>\n",
              "      <td>0.0</td>\n",
              "      <td>1</td>\n",
              "      <td>0</td>\n",
              "      <td>0</td>\n",
              "      <td>0</td>\n",
              "      <td>0</td>\n",
              "      <td>0</td>\n",
              "      <td>0</td>\n",
              "      <td>0</td>\n",
              "      <td>0</td>\n",
              "      <td>0</td>\n",
              "      <td>0</td>\n",
              "      <td>0</td>\n",
              "      <td>0</td>\n",
              "      <td>0</td>\n",
              "      <td>0</td>\n",
              "      <td>0</td>\n",
              "      <td>0</td>\n",
              "      <td>0</td>\n",
              "      <td>0</td>\n",
              "      <td>0</td>\n",
              "      <td>0</td>\n",
              "      <td>0</td>\n",
              "      <td>0</td>\n",
              "      <td>0</td>\n",
              "      <td>0</td>\n",
              "      <td>0</td>\n",
              "      <td>0</td>\n",
              "      <td>0</td>\n",
              "      <td>0</td>\n",
              "      <td>0</td>\n",
              "      <td>0</td>\n",
              "      <td>0</td>\n",
              "      <td>0</td>\n",
              "      <td>0</td>\n",
              "      <td>0</td>\n",
              "      <td>0</td>\n",
              "      <td>1</td>\n",
              "      <td>0</td>\n",
              "      <td>0</td>\n",
              "      <td>1</td>\n",
              "      <td>0</td>\n",
              "      <td>0</td>\n",
              "      <td>0</td>\n",
              "      <td>0</td>\n",
              "      <td>0</td>\n",
              "      <td>0</td>\n",
              "      <td>0</td>\n",
              "      <td>0</td>\n",
              "      <td>0</td>\n",
              "      <td>0</td>\n",
              "      <td>0</td>\n",
              "      <td>0</td>\n",
              "      <td>0</td>\n",
              "      <td>0</td>\n",
              "      <td>1</td>\n",
              "      <td>0</td>\n",
              "      <td>0</td>\n",
              "      <td>0</td>\n",
              "      <td>0</td>\n",
              "      <td>0</td>\n",
              "      <td>0</td>\n",
              "      <td>0</td>\n",
              "      <td>0</td>\n",
              "      <td>0</td>\n",
              "      <td>2006</td>\n",
              "    </tr>\n",
              "    <tr>\n",
              "      <th>4</th>\n",
              "      <td>24375.0</td>\n",
              "      <td>60</td>\n",
              "      <td>17.27</td>\n",
              "      <td>609.33</td>\n",
              "      <td>55000.0</td>\n",
              "      <td>Charged Off</td>\n",
              "      <td>33.95</td>\n",
              "      <td>13.0</td>\n",
              "      <td>0.0</td>\n",
              "      <td>24584.0</td>\n",
              "      <td>69.8</td>\n",
              "      <td>43.0</td>\n",
              "      <td>1.0</td>\n",
              "      <td>0.0</td>\n",
              "      <td>0</td>\n",
              "      <td>0</td>\n",
              "      <td>0</td>\n",
              "      <td>0</td>\n",
              "      <td>0</td>\n",
              "      <td>0</td>\n",
              "      <td>0</td>\n",
              "      <td>0</td>\n",
              "      <td>0</td>\n",
              "      <td>0</td>\n",
              "      <td>0</td>\n",
              "      <td>0</td>\n",
              "      <td>0</td>\n",
              "      <td>1</td>\n",
              "      <td>0</td>\n",
              "      <td>0</td>\n",
              "      <td>0</td>\n",
              "      <td>0</td>\n",
              "      <td>0</td>\n",
              "      <td>0</td>\n",
              "      <td>0</td>\n",
              "      <td>0</td>\n",
              "      <td>0</td>\n",
              "      <td>0</td>\n",
              "      <td>0</td>\n",
              "      <td>0</td>\n",
              "      <td>0</td>\n",
              "      <td>0</td>\n",
              "      <td>0</td>\n",
              "      <td>0</td>\n",
              "      <td>0</td>\n",
              "      <td>0</td>\n",
              "      <td>0</td>\n",
              "      <td>0</td>\n",
              "      <td>0</td>\n",
              "      <td>1</td>\n",
              "      <td>1</td>\n",
              "      <td>0</td>\n",
              "      <td>0</td>\n",
              "      <td>1</td>\n",
              "      <td>0</td>\n",
              "      <td>0</td>\n",
              "      <td>0</td>\n",
              "      <td>0</td>\n",
              "      <td>0</td>\n",
              "      <td>0</td>\n",
              "      <td>0</td>\n",
              "      <td>0</td>\n",
              "      <td>0</td>\n",
              "      <td>0</td>\n",
              "      <td>0</td>\n",
              "      <td>0</td>\n",
              "      <td>0</td>\n",
              "      <td>0</td>\n",
              "      <td>0</td>\n",
              "      <td>0</td>\n",
              "      <td>1</td>\n",
              "      <td>0</td>\n",
              "      <td>0</td>\n",
              "      <td>0</td>\n",
              "      <td>0</td>\n",
              "      <td>0</td>\n",
              "      <td>0</td>\n",
              "      <td>0</td>\n",
              "      <td>1999</td>\n",
              "    </tr>\n",
              "  </tbody>\n",
              "</table>\n",
              "</div>"
            ],
            "text/plain": [
              "   loan_amnt  term  int_rate  ...  86630  93700 earliest_cr_year\n",
              "0    10000.0    36     11.44  ...      0      0             1990\n",
              "1     8000.0    36     11.99  ...      0      0             2004\n",
              "2    15600.0    36     10.49  ...      0      0             2007\n",
              "3     7200.0    36      6.49  ...      0      0             2006\n",
              "4    24375.0    60     17.27  ...      0      0             1999\n",
              "\n",
              "[5 rows x 79 columns]"
            ]
          },
          "metadata": {
            "tags": []
          },
          "execution_count": 146
        }
      ]
    },
    {
      "cell_type": "code",
      "metadata": {
        "colab": {
          "base_uri": "https://localhost:8080/"
        },
        "id": "OGFF5LKx0urD",
        "outputId": "777d2c6d-3659-4c84-dd2b-2c77b6610027"
      },
      "source": [
        "df['loan_status'].value_counts()"
      ],
      "execution_count": 147,
      "outputs": [
        {
          "output_type": "execute_result",
          "data": {
            "text/plain": [
              "Fully Paid     317696\n",
              "Charged Off     77523\n",
              "Name: loan_status, dtype: int64"
            ]
          },
          "metadata": {
            "tags": []
          },
          "execution_count": 147
        }
      ]
    },
    {
      "cell_type": "markdown",
      "metadata": {
        "id": "g0IB6vVp029u"
      },
      "source": [
        "**Feature Engineering**"
      ]
    },
    {
      "cell_type": "code",
      "metadata": {
        "id": "k1W3K_jh0zLf"
      },
      "source": [
        "df['loan_status'] = df['loan_status'].map({'Fully Paid':1,'Charged Off':0})"
      ],
      "execution_count": 148,
      "outputs": []
    },
    {
      "cell_type": "markdown",
      "metadata": {
        "id": "mQe7EfZY6Mk4"
      },
      "source": [
        "**Data Pre-Processing**"
      ]
    },
    {
      "cell_type": "code",
      "metadata": {
        "id": "DXsEZ2fn1CPl"
      },
      "source": [
        "X= df.drop('loan_status',axis=1).values\n",
        "y= df['loan_status'].values"
      ],
      "execution_count": 149,
      "outputs": []
    },
    {
      "cell_type": "code",
      "metadata": {
        "id": "Koc3C-o96bUT"
      },
      "source": [
        "from sklearn.model_selection import train_test_split\n",
        "X_train, X_test, y_train, y_test = train_test_split(X,y, test_size=0.30, random_state=42)"
      ],
      "execution_count": 150,
      "outputs": []
    },
    {
      "cell_type": "code",
      "metadata": {
        "id": "IDpL2Wza6ww_"
      },
      "source": [
        "from sklearn.preprocessing import MinMaxScaler\n",
        "scaler = MinMaxScaler()\n",
        "X_train = scaler.fit_transform(X_train)\n",
        "X_test = scaler.transform(X_test)"
      ],
      "execution_count": 151,
      "outputs": []
    },
    {
      "cell_type": "markdown",
      "metadata": {
        "id": "K5UvULDU7m2t"
      },
      "source": [
        "**Model Trainig**"
      ]
    },
    {
      "cell_type": "code",
      "metadata": {
        "id": "Vb7fIfJL7ldl"
      },
      "source": [
        "import tensorflow as tf\n",
        "from tensorflow.keras.models import Sequential\n",
        "from tensorflow.keras.layers import Dense, Activation,Dropout\n",
        "from tensorflow.keras.constraints import max_norm"
      ],
      "execution_count": 152,
      "outputs": []
    },
    {
      "cell_type": "code",
      "metadata": {
        "id": "aHhZLUxR7ALM"
      },
      "source": [
        "model = Sequential()\n",
        "# input layer\n",
        "model.add(Dense(78,  activation='relu'))\n",
        "model.add(Dropout(0.2))\n",
        "# hidden layer\n",
        "model.add(Dense(39, activation='relu'))\n",
        "model.add(Dropout(0.2))\n",
        "# hidden layer\n",
        "model.add(Dense(19, activation='relu'))\n",
        "model.add(Dropout(0.2))\n",
        "# output layer\n",
        "model.add(Dense(units=1,activation='sigmoid'))\n",
        "\n",
        "# Compile model\n",
        "model.compile(loss='binary_crossentropy', optimizer='adam',metrics=['accuracy'])"
      ],
      "execution_count": 153,
      "outputs": []
    },
    {
      "cell_type": "code",
      "metadata": {
        "colab": {
          "base_uri": "https://localhost:8080/"
        },
        "id": "murx4lLO8UlC",
        "outputId": "da1c7650-29ee-42f7-a2b7-871249ae38af"
      },
      "source": [
        "model.fit(x=X_train,\n",
        "          y=y_train,\n",
        "          epochs=25,\n",
        "          batch_size=256,\n",
        "          validation_data=(X_test, y_test),\n",
        "          )"
      ],
      "execution_count": 154,
      "outputs": [
        {
          "output_type": "stream",
          "text": [
            "Epoch 1/25\n",
            "1081/1081 [==============================] - 5s 4ms/step - loss: 0.3709 - accuracy: 0.8432 - val_loss: 0.2627 - val_accuracy: 0.8883\n",
            "Epoch 2/25\n",
            "1081/1081 [==============================] - 4s 4ms/step - loss: 0.2662 - accuracy: 0.8885 - val_loss: 0.2609 - val_accuracy: 0.8884\n",
            "Epoch 3/25\n",
            "1081/1081 [==============================] - 4s 4ms/step - loss: 0.2633 - accuracy: 0.8884 - val_loss: 0.2604 - val_accuracy: 0.8883\n",
            "Epoch 4/25\n",
            "1081/1081 [==============================] - 4s 4ms/step - loss: 0.2612 - accuracy: 0.8889 - val_loss: 0.2605 - val_accuracy: 0.8883\n",
            "Epoch 5/25\n",
            "1081/1081 [==============================] - 4s 4ms/step - loss: 0.2616 - accuracy: 0.8875 - val_loss: 0.2596 - val_accuracy: 0.8883\n",
            "Epoch 6/25\n",
            "1081/1081 [==============================] - 4s 4ms/step - loss: 0.2609 - accuracy: 0.8875 - val_loss: 0.2592 - val_accuracy: 0.8883\n",
            "Epoch 7/25\n",
            "1081/1081 [==============================] - 4s 3ms/step - loss: 0.2587 - accuracy: 0.8893 - val_loss: 0.2591 - val_accuracy: 0.8883\n",
            "Epoch 8/25\n",
            "1081/1081 [==============================] - 4s 4ms/step - loss: 0.2620 - accuracy: 0.8868 - val_loss: 0.2594 - val_accuracy: 0.8882\n",
            "Epoch 9/25\n",
            "1081/1081 [==============================] - 4s 4ms/step - loss: 0.2590 - accuracy: 0.8886 - val_loss: 0.2593 - val_accuracy: 0.8882\n",
            "Epoch 10/25\n",
            "1081/1081 [==============================] - 4s 4ms/step - loss: 0.2572 - accuracy: 0.8896 - val_loss: 0.2591 - val_accuracy: 0.8883\n",
            "Epoch 11/25\n",
            "1081/1081 [==============================] - 4s 4ms/step - loss: 0.2591 - accuracy: 0.8874 - val_loss: 0.2596 - val_accuracy: 0.8883\n",
            "Epoch 12/25\n",
            "1081/1081 [==============================] - 4s 3ms/step - loss: 0.2606 - accuracy: 0.8874 - val_loss: 0.2592 - val_accuracy: 0.8883\n",
            "Epoch 13/25\n",
            "1081/1081 [==============================] - 4s 4ms/step - loss: 0.2590 - accuracy: 0.8884 - val_loss: 0.2590 - val_accuracy: 0.8887\n",
            "Epoch 14/25\n",
            "1081/1081 [==============================] - 4s 4ms/step - loss: 0.2582 - accuracy: 0.8878 - val_loss: 0.2592 - val_accuracy: 0.8882\n",
            "Epoch 15/25\n",
            "1081/1081 [==============================] - 4s 3ms/step - loss: 0.2589 - accuracy: 0.8882 - val_loss: 0.2597 - val_accuracy: 0.8884\n",
            "Epoch 16/25\n",
            "1081/1081 [==============================] - 4s 4ms/step - loss: 0.2573 - accuracy: 0.8892 - val_loss: 0.2595 - val_accuracy: 0.8883\n",
            "Epoch 17/25\n",
            "1081/1081 [==============================] - 4s 4ms/step - loss: 0.2575 - accuracy: 0.8889 - val_loss: 0.2597 - val_accuracy: 0.8885\n",
            "Epoch 18/25\n",
            "1081/1081 [==============================] - 4s 4ms/step - loss: 0.2584 - accuracy: 0.8880 - val_loss: 0.2596 - val_accuracy: 0.8882\n",
            "Epoch 19/25\n",
            "1081/1081 [==============================] - 4s 4ms/step - loss: 0.2581 - accuracy: 0.8882 - val_loss: 0.2591 - val_accuracy: 0.8884\n",
            "Epoch 20/25\n",
            "1081/1081 [==============================] - 4s 4ms/step - loss: 0.2584 - accuracy: 0.8882 - val_loss: 0.2593 - val_accuracy: 0.8884\n",
            "Epoch 21/25\n",
            "1081/1081 [==============================] - 4s 4ms/step - loss: 0.2562 - accuracy: 0.8887 - val_loss: 0.2593 - val_accuracy: 0.8884\n",
            "Epoch 22/25\n",
            "1081/1081 [==============================] - 4s 4ms/step - loss: 0.2575 - accuracy: 0.8883 - val_loss: 0.2596 - val_accuracy: 0.8887\n",
            "Epoch 23/25\n",
            "1081/1081 [==============================] - 4s 4ms/step - loss: 0.2536 - accuracy: 0.8910 - val_loss: 0.2590 - val_accuracy: 0.8886\n",
            "Epoch 24/25\n",
            "1081/1081 [==============================] - 4s 4ms/step - loss: 0.2563 - accuracy: 0.8888 - val_loss: 0.2591 - val_accuracy: 0.8883\n",
            "Epoch 25/25\n",
            "1081/1081 [==============================] - 4s 4ms/step - loss: 0.2549 - accuracy: 0.8896 - val_loss: 0.2594 - val_accuracy: 0.8886\n"
          ],
          "name": "stdout"
        },
        {
          "output_type": "execute_result",
          "data": {
            "text/plain": [
              "<tensorflow.python.keras.callbacks.History at 0x7f4d69f2b240>"
            ]
          },
          "metadata": {
            "tags": []
          },
          "execution_count": 154
        }
      ]
    },
    {
      "cell_type": "markdown",
      "metadata": {
        "id": "nLu84hkZ8ofT"
      },
      "source": [
        "**Evaluate Model Performance**"
      ]
    },
    {
      "cell_type": "code",
      "metadata": {
        "id": "CPBLGEnq8Vs5"
      },
      "source": [
        "losses = pd.DataFrame(model.history.history)"
      ],
      "execution_count": 155,
      "outputs": []
    },
    {
      "cell_type": "code",
      "metadata": {
        "colab": {
          "base_uri": "https://localhost:8080/",
          "height": 282
        },
        "id": "fdB6ES0E8vbP",
        "outputId": "cc6eab1e-48c1-496d-e017-478f206d3575"
      },
      "source": [
        "losses[['loss','val_loss']].plot()"
      ],
      "execution_count": 156,
      "outputs": [
        {
          "output_type": "execute_result",
          "data": {
            "text/plain": [
              "<matplotlib.axes._subplots.AxesSubplot at 0x7f4d66f1f668>"
            ]
          },
          "metadata": {
            "tags": []
          },
          "execution_count": 156
        },
        {
          "output_type": "display_data",
          "data": {
            "image/png": "[encoded data removed]",
            "text/plain": [
              "<Figure size 432x288 with 1 Axes>"
            ]
          },
          "metadata": {
            "tags": [],
            "image/png": {
              "width": 382,
              "height": 248
            },
            "needs_background": "light"
          }
        }
      ]
    },
    {
      "cell_type": "markdown",
      "metadata": {
        "id": "ktAwubch80x-"
      },
      "source": [
        "**Make Prediction**"
      ]
    },
    {
      "cell_type": "code",
      "metadata": {
        "colab": {
          "base_uri": "https://localhost:8080/"
        },
        "id": "DP5uXlwt82zt",
        "outputId": "a195671e-c64d-4e97-acee-365ceded7040"
      },
      "source": [
        "from sklearn.metrics import classification_report,confusion_matrix\n",
        "predictions = model.predict_classes(X_test)"
      ],
      "execution_count": 157,
      "outputs": [
        {
          "output_type": "stream",
          "text": [
            "/usr/local/lib/python3.6/dist-packages/tensorflow/python/keras/engine/sequential.py:450: UserWarning: `model.predict_classes()` is deprecated and will be removed after 2021-01-01. Please use instead:* `np.argmax(model.predict(x), axis=-1)`,   if your model does multi-class classification   (e.g. if it uses a `softmax` last-layer activation).* `(model.predict(x) > 0.5).astype(\"int32\")`,   if your model does binary classification   (e.g. if it uses a `sigmoid` last-layer activation).\n",
            "  warnings.warn('`model.predict_classes()` is deprecated and '\n"
          ],
          "name": "stderr"
        }
      ]
    },
    {
      "cell_type": "markdown",
      "metadata": {
        "id": "HOAXgX-J89KR"
      },
      "source": [
        "**Create Classification Report and Confusion Matrix**"
      ]
    },
    {
      "cell_type": "code",
      "metadata": {
        "colab": {
          "base_uri": "https://localhost:8080/"
        },
        "id": "ivdJKRkd85b1",
        "outputId": "37adf3d7-8bbf-4611-b5a3-4b8d68919295"
      },
      "source": [
        "print(classification_report(y_test,predictions))"
      ],
      "execution_count": 158,
      "outputs": [
        {
          "output_type": "stream",
          "text": [
            "              precision    recall  f1-score   support\n",
            "\n",
            "           0       0.99      0.44      0.61     23210\n",
            "           1       0.88      1.00      0.94     95356\n",
            "\n",
            "    accuracy                           0.89    118566\n",
            "   macro avg       0.93      0.72      0.77    118566\n",
            "weighted avg       0.90      0.89      0.87    118566\n",
            "\n"
          ],
          "name": "stdout"
        }
      ]
    },
    {
      "cell_type": "code",
      "metadata": {
        "colab": {
          "base_uri": "https://localhost:8080/"
        },
        "id": "1niBGagp9N05",
        "outputId": "7ff47161-d9e7-450d-f147-82705e707e33"
      },
      "source": [
        "confusion_matrix(y_test, predictions)"
      ],
      "execution_count": 159,
      "outputs": [
        {
          "output_type": "execute_result",
          "data": {
            "text/plain": [
              "array([[10125, 13085],\n",
              "       [  119, 95237]])"
            ]
          },
          "metadata": {
            "tags": []
          },
          "execution_count": 159
        }
      ]
    },
    {
      "cell_type": "code",
      "metadata": {
        "id": "oJv4kBhN9WhM"
      },
      "source": [
        "model.save('loan_status_prediction_model.h5')"
      ],
      "execution_count": 162,
      "outputs": []
    },
    {
      "cell_type": "markdown",
      "metadata": {
        "id": "CwrS5OX-AUS-"
      },
      "source": [
        "**Make prediction**"
      ]
    },
    {
      "cell_type": "code",
      "metadata": {
        "colab": {
          "base_uri": "https://localhost:8080/",
          "height": 241
        },
        "id": "0-NGsNWMABVS",
        "outputId": "cb6ec419-7cc2-466f-fb89-b73265a18c87"
      },
      "source": [
        "df.head()"
      ],
      "execution_count": 163,
      "outputs": [
        {
          "output_type": "execute_result",
          "data": {
            "text/html": [
              "<div>\n",
              "<style scoped>\n",
              "    .dataframe tbody tr th:only-of-type {\n",
              "        vertical-align: middle;\n",
              "    }\n",
              "\n",
              "    .dataframe tbody tr th {\n",
              "        vertical-align: top;\n",
              "    }\n",
              "\n",
              "    .dataframe thead th {\n",
              "        text-align: right;\n",
              "    }\n",
              "</style>\n",
              "<table border=\"1\" class=\"dataframe\">\n",
              "  <thead>\n",
              "    <tr style=\"text-align: right;\">\n",
              "      <th></th>\n",
              "      <th>loan_amnt</th>\n",
              "      <th>term</th>\n",
              "      <th>int_rate</th>\n",
              "      <th>installment</th>\n",
              "      <th>annual_inc</th>\n",
              "      <th>loan_status</th>\n",
              "      <th>dti</th>\n",
              "      <th>open_acc</th>\n",
              "      <th>pub_rec</th>\n",
              "      <th>revol_bal</th>\n",
              "      <th>revol_util</th>\n",
              "      <th>total_acc</th>\n",
              "      <th>mort_acc</th>\n",
              "      <th>pub_rec_bankruptcies</th>\n",
              "      <th>A2</th>\n",
              "      <th>A3</th>\n",
              "      <th>A4</th>\n",
              "      <th>A5</th>\n",
              "      <th>B1</th>\n",
              "      <th>B2</th>\n",
              "      <th>B3</th>\n",
              "      <th>B4</th>\n",
              "      <th>B5</th>\n",
              "      <th>C1</th>\n",
              "      <th>C2</th>\n",
              "      <th>C3</th>\n",
              "      <th>C4</th>\n",
              "      <th>C5</th>\n",
              "      <th>D1</th>\n",
              "      <th>D2</th>\n",
              "      <th>D3</th>\n",
              "      <th>D4</th>\n",
              "      <th>D5</th>\n",
              "      <th>E1</th>\n",
              "      <th>E2</th>\n",
              "      <th>E3</th>\n",
              "      <th>E4</th>\n",
              "      <th>E5</th>\n",
              "      <th>F1</th>\n",
              "      <th>F2</th>\n",
              "      <th>F3</th>\n",
              "      <th>F4</th>\n",
              "      <th>F5</th>\n",
              "      <th>G1</th>\n",
              "      <th>G2</th>\n",
              "      <th>G3</th>\n",
              "      <th>G4</th>\n",
              "      <th>G5</th>\n",
              "      <th>verification_status_Source Verified</th>\n",
              "      <th>verification_status_Verified</th>\n",
              "      <th>application_type_INDIVIDUAL</th>\n",
              "      <th>application_type_JOINT</th>\n",
              "      <th>initial_list_status_w</th>\n",
              "      <th>purpose_credit_card</th>\n",
              "      <th>purpose_debt_consolidation</th>\n",
              "      <th>purpose_educational</th>\n",
              "      <th>purpose_home_improvement</th>\n",
              "      <th>purpose_house</th>\n",
              "      <th>purpose_major_purchase</th>\n",
              "      <th>purpose_medical</th>\n",
              "      <th>purpose_moving</th>\n",
              "      <th>purpose_other</th>\n",
              "      <th>purpose_renewable_energy</th>\n",
              "      <th>purpose_small_business</th>\n",
              "      <th>purpose_vacation</th>\n",
              "      <th>purpose_wedding</th>\n",
              "      <th>OTHER</th>\n",
              "      <th>OWN</th>\n",
              "      <th>RENT</th>\n",
              "      <th>05113</th>\n",
              "      <th>11650</th>\n",
              "      <th>22690</th>\n",
              "      <th>29597</th>\n",
              "      <th>30723</th>\n",
              "      <th>48052</th>\n",
              "      <th>70466</th>\n",
              "      <th>86630</th>\n",
              "      <th>93700</th>\n",
              "      <th>earliest_cr_year</th>\n",
              "    </tr>\n",
              "  </thead>\n",
              "  <tbody>\n",
              "    <tr>\n",
              "      <th>0</th>\n",
              "      <td>10000.0</td>\n",
              "      <td>36</td>\n",
              "      <td>11.44</td>\n",
              "      <td>329.48</td>\n",
              "      <td>117000.0</td>\n",
              "      <td>1</td>\n",
              "      <td>26.24</td>\n",
              "      <td>16.0</td>\n",
              "      <td>0.0</td>\n",
              "      <td>36369.0</td>\n",
              "      <td>41.8</td>\n",
              "      <td>25.0</td>\n",
              "      <td>0.0</td>\n",
              "      <td>0.0</td>\n",
              "      <td>0</td>\n",
              "      <td>0</td>\n",
              "      <td>0</td>\n",
              "      <td>0</td>\n",
              "      <td>0</td>\n",
              "      <td>0</td>\n",
              "      <td>0</td>\n",
              "      <td>1</td>\n",
              "      <td>0</td>\n",
              "      <td>0</td>\n",
              "      <td>0</td>\n",
              "      <td>0</td>\n",
              "      <td>0</td>\n",
              "      <td>0</td>\n",
              "      <td>0</td>\n",
              "      <td>0</td>\n",
              "      <td>0</td>\n",
              "      <td>0</td>\n",
              "      <td>0</td>\n",
              "      <td>0</td>\n",
              "      <td>0</td>\n",
              "      <td>0</td>\n",
              "      <td>0</td>\n",
              "      <td>0</td>\n",
              "      <td>0</td>\n",
              "      <td>0</td>\n",
              "      <td>0</td>\n",
              "      <td>0</td>\n",
              "      <td>0</td>\n",
              "      <td>0</td>\n",
              "      <td>0</td>\n",
              "      <td>0</td>\n",
              "      <td>0</td>\n",
              "      <td>0</td>\n",
              "      <td>0</td>\n",
              "      <td>0</td>\n",
              "      <td>1</td>\n",
              "      <td>0</td>\n",
              "      <td>1</td>\n",
              "      <td>0</td>\n",
              "      <td>0</td>\n",
              "      <td>0</td>\n",
              "      <td>0</td>\n",
              "      <td>0</td>\n",
              "      <td>0</td>\n",
              "      <td>0</td>\n",
              "      <td>0</td>\n",
              "      <td>0</td>\n",
              "      <td>0</td>\n",
              "      <td>0</td>\n",
              "      <td>1</td>\n",
              "      <td>0</td>\n",
              "      <td>0</td>\n",
              "      <td>0</td>\n",
              "      <td>1</td>\n",
              "      <td>0</td>\n",
              "      <td>0</td>\n",
              "      <td>1</td>\n",
              "      <td>0</td>\n",
              "      <td>0</td>\n",
              "      <td>0</td>\n",
              "      <td>0</td>\n",
              "      <td>0</td>\n",
              "      <td>0</td>\n",
              "      <td>1990</td>\n",
              "    </tr>\n",
              "    <tr>\n",
              "      <th>1</th>\n",
              "      <td>8000.0</td>\n",
              "      <td>36</td>\n",
              "      <td>11.99</td>\n",
              "      <td>265.68</td>\n",
              "      <td>65000.0</td>\n",
              "      <td>1</td>\n",
              "      <td>22.05</td>\n",
              "      <td>17.0</td>\n",
              "      <td>0.0</td>\n",
              "      <td>20131.0</td>\n",
              "      <td>53.3</td>\n",
              "      <td>27.0</td>\n",
              "      <td>3.0</td>\n",
              "      <td>0.0</td>\n",
              "      <td>0</td>\n",
              "      <td>0</td>\n",
              "      <td>0</td>\n",
              "      <td>0</td>\n",
              "      <td>0</td>\n",
              "      <td>0</td>\n",
              "      <td>0</td>\n",
              "      <td>0</td>\n",
              "      <td>1</td>\n",
              "      <td>0</td>\n",
              "      <td>0</td>\n",
              "      <td>0</td>\n",
              "      <td>0</td>\n",
              "      <td>0</td>\n",
              "      <td>0</td>\n",
              "      <td>0</td>\n",
              "      <td>0</td>\n",
              "      <td>0</td>\n",
              "      <td>0</td>\n",
              "      <td>0</td>\n",
              "      <td>0</td>\n",
              "      <td>0</td>\n",
              "      <td>0</td>\n",
              "      <td>0</td>\n",
              "      <td>0</td>\n",
              "      <td>0</td>\n",
              "      <td>0</td>\n",
              "      <td>0</td>\n",
              "      <td>0</td>\n",
              "      <td>0</td>\n",
              "      <td>0</td>\n",
              "      <td>0</td>\n",
              "      <td>0</td>\n",
              "      <td>0</td>\n",
              "      <td>0</td>\n",
              "      <td>0</td>\n",
              "      <td>1</td>\n",
              "      <td>0</td>\n",
              "      <td>0</td>\n",
              "      <td>0</td>\n",
              "      <td>1</td>\n",
              "      <td>0</td>\n",
              "      <td>0</td>\n",
              "      <td>0</td>\n",
              "      <td>0</td>\n",
              "      <td>0</td>\n",
              "      <td>0</td>\n",
              "      <td>0</td>\n",
              "      <td>0</td>\n",
              "      <td>0</td>\n",
              "      <td>0</td>\n",
              "      <td>0</td>\n",
              "      <td>0</td>\n",
              "      <td>0</td>\n",
              "      <td>0</td>\n",
              "      <td>1</td>\n",
              "      <td>0</td>\n",
              "      <td>0</td>\n",
              "      <td>0</td>\n",
              "      <td>0</td>\n",
              "      <td>0</td>\n",
              "      <td>0</td>\n",
              "      <td>0</td>\n",
              "      <td>0</td>\n",
              "      <td>2004</td>\n",
              "    </tr>\n",
              "    <tr>\n",
              "      <th>2</th>\n",
              "      <td>15600.0</td>\n",
              "      <td>36</td>\n",
              "      <td>10.49</td>\n",
              "      <td>506.97</td>\n",
              "      <td>43057.0</td>\n",
              "      <td>1</td>\n",
              "      <td>12.79</td>\n",
              "      <td>13.0</td>\n",
              "      <td>0.0</td>\n",
              "      <td>11987.0</td>\n",
              "      <td>92.2</td>\n",
              "      <td>26.0</td>\n",
              "      <td>0.0</td>\n",
              "      <td>0.0</td>\n",
              "      <td>0</td>\n",
              "      <td>0</td>\n",
              "      <td>0</td>\n",
              "      <td>0</td>\n",
              "      <td>0</td>\n",
              "      <td>0</td>\n",
              "      <td>1</td>\n",
              "      <td>0</td>\n",
              "      <td>0</td>\n",
              "      <td>0</td>\n",
              "      <td>0</td>\n",
              "      <td>0</td>\n",
              "      <td>0</td>\n",
              "      <td>0</td>\n",
              "      <td>0</td>\n",
              "      <td>0</td>\n",
              "      <td>0</td>\n",
              "      <td>0</td>\n",
              "      <td>0</td>\n",
              "      <td>0</td>\n",
              "      <td>0</td>\n",
              "      <td>0</td>\n",
              "      <td>0</td>\n",
              "      <td>0</td>\n",
              "      <td>0</td>\n",
              "      <td>0</td>\n",
              "      <td>0</td>\n",
              "      <td>0</td>\n",
              "      <td>0</td>\n",
              "      <td>0</td>\n",
              "      <td>0</td>\n",
              "      <td>0</td>\n",
              "      <td>0</td>\n",
              "      <td>0</td>\n",
              "      <td>1</td>\n",
              "      <td>0</td>\n",
              "      <td>1</td>\n",
              "      <td>0</td>\n",
              "      <td>0</td>\n",
              "      <td>1</td>\n",
              "      <td>0</td>\n",
              "      <td>0</td>\n",
              "      <td>0</td>\n",
              "      <td>0</td>\n",
              "      <td>0</td>\n",
              "      <td>0</td>\n",
              "      <td>0</td>\n",
              "      <td>0</td>\n",
              "      <td>0</td>\n",
              "      <td>0</td>\n",
              "      <td>0</td>\n",
              "      <td>0</td>\n",
              "      <td>0</td>\n",
              "      <td>0</td>\n",
              "      <td>1</td>\n",
              "      <td>1</td>\n",
              "      <td>0</td>\n",
              "      <td>0</td>\n",
              "      <td>0</td>\n",
              "      <td>0</td>\n",
              "      <td>0</td>\n",
              "      <td>0</td>\n",
              "      <td>0</td>\n",
              "      <td>0</td>\n",
              "      <td>2007</td>\n",
              "    </tr>\n",
              "    <tr>\n",
              "      <th>3</th>\n",
              "      <td>7200.0</td>\n",
              "      <td>36</td>\n",
              "      <td>6.49</td>\n",
              "      <td>220.65</td>\n",
              "      <td>54000.0</td>\n",
              "      <td>1</td>\n",
              "      <td>2.60</td>\n",
              "      <td>6.0</td>\n",
              "      <td>0.0</td>\n",
              "      <td>5472.0</td>\n",
              "      <td>21.5</td>\n",
              "      <td>13.0</td>\n",
              "      <td>0.0</td>\n",
              "      <td>0.0</td>\n",
              "      <td>1</td>\n",
              "      <td>0</td>\n",
              "      <td>0</td>\n",
              "      <td>0</td>\n",
              "      <td>0</td>\n",
              "      <td>0</td>\n",
              "      <td>0</td>\n",
              "      <td>0</td>\n",
              "      <td>0</td>\n",
              "      <td>0</td>\n",
              "      <td>0</td>\n",
              "      <td>0</td>\n",
              "      <td>0</td>\n",
              "      <td>0</td>\n",
              "      <td>0</td>\n",
              "      <td>0</td>\n",
              "      <td>0</td>\n",
              "      <td>0</td>\n",
              "      <td>0</td>\n",
              "      <td>0</td>\n",
              "      <td>0</td>\n",
              "      <td>0</td>\n",
              "      <td>0</td>\n",
              "      <td>0</td>\n",
              "      <td>0</td>\n",
              "      <td>0</td>\n",
              "      <td>0</td>\n",
              "      <td>0</td>\n",
              "      <td>0</td>\n",
              "      <td>0</td>\n",
              "      <td>0</td>\n",
              "      <td>0</td>\n",
              "      <td>0</td>\n",
              "      <td>0</td>\n",
              "      <td>0</td>\n",
              "      <td>0</td>\n",
              "      <td>1</td>\n",
              "      <td>0</td>\n",
              "      <td>0</td>\n",
              "      <td>1</td>\n",
              "      <td>0</td>\n",
              "      <td>0</td>\n",
              "      <td>0</td>\n",
              "      <td>0</td>\n",
              "      <td>0</td>\n",
              "      <td>0</td>\n",
              "      <td>0</td>\n",
              "      <td>0</td>\n",
              "      <td>0</td>\n",
              "      <td>0</td>\n",
              "      <td>0</td>\n",
              "      <td>0</td>\n",
              "      <td>0</td>\n",
              "      <td>0</td>\n",
              "      <td>1</td>\n",
              "      <td>0</td>\n",
              "      <td>0</td>\n",
              "      <td>0</td>\n",
              "      <td>0</td>\n",
              "      <td>0</td>\n",
              "      <td>0</td>\n",
              "      <td>0</td>\n",
              "      <td>0</td>\n",
              "      <td>0</td>\n",
              "      <td>2006</td>\n",
              "    </tr>\n",
              "    <tr>\n",
              "      <th>4</th>\n",
              "      <td>24375.0</td>\n",
              "      <td>60</td>\n",
              "      <td>17.27</td>\n",
              "      <td>609.33</td>\n",
              "      <td>55000.0</td>\n",
              "      <td>0</td>\n",
              "      <td>33.95</td>\n",
              "      <td>13.0</td>\n",
              "      <td>0.0</td>\n",
              "      <td>24584.0</td>\n",
              "      <td>69.8</td>\n",
              "      <td>43.0</td>\n",
              "      <td>1.0</td>\n",
              "      <td>0.0</td>\n",
              "      <td>0</td>\n",
              "      <td>0</td>\n",
              "      <td>0</td>\n",
              "      <td>0</td>\n",
              "      <td>0</td>\n",
              "      <td>0</td>\n",
              "      <td>0</td>\n",
              "      <td>0</td>\n",
              "      <td>0</td>\n",
              "      <td>0</td>\n",
              "      <td>0</td>\n",
              "      <td>0</td>\n",
              "      <td>0</td>\n",
              "      <td>1</td>\n",
              "      <td>0</td>\n",
              "      <td>0</td>\n",
              "      <td>0</td>\n",
              "      <td>0</td>\n",
              "      <td>0</td>\n",
              "      <td>0</td>\n",
              "      <td>0</td>\n",
              "      <td>0</td>\n",
              "      <td>0</td>\n",
              "      <td>0</td>\n",
              "      <td>0</td>\n",
              "      <td>0</td>\n",
              "      <td>0</td>\n",
              "      <td>0</td>\n",
              "      <td>0</td>\n",
              "      <td>0</td>\n",
              "      <td>0</td>\n",
              "      <td>0</td>\n",
              "      <td>0</td>\n",
              "      <td>0</td>\n",
              "      <td>0</td>\n",
              "      <td>1</td>\n",
              "      <td>1</td>\n",
              "      <td>0</td>\n",
              "      <td>0</td>\n",
              "      <td>1</td>\n",
              "      <td>0</td>\n",
              "      <td>0</td>\n",
              "      <td>0</td>\n",
              "      <td>0</td>\n",
              "      <td>0</td>\n",
              "      <td>0</td>\n",
              "      <td>0</td>\n",
              "      <td>0</td>\n",
              "      <td>0</td>\n",
              "      <td>0</td>\n",
              "      <td>0</td>\n",
              "      <td>0</td>\n",
              "      <td>0</td>\n",
              "      <td>0</td>\n",
              "      <td>0</td>\n",
              "      <td>0</td>\n",
              "      <td>1</td>\n",
              "      <td>0</td>\n",
              "      <td>0</td>\n",
              "      <td>0</td>\n",
              "      <td>0</td>\n",
              "      <td>0</td>\n",
              "      <td>0</td>\n",
              "      <td>0</td>\n",
              "      <td>1999</td>\n",
              "    </tr>\n",
              "  </tbody>\n",
              "</table>\n",
              "</div>"
            ],
            "text/plain": [
              "   loan_amnt  term  int_rate  ...  86630  93700  earliest_cr_year\n",
              "0    10000.0    36     11.44  ...      0      0              1990\n",
              "1     8000.0    36     11.99  ...      0      0              2004\n",
              "2    15600.0    36     10.49  ...      0      0              2007\n",
              "3     7200.0    36      6.49  ...      0      0              2006\n",
              "4    24375.0    60     17.27  ...      0      0              1999\n",
              "\n",
              "[5 rows x 79 columns]"
            ]
          },
          "metadata": {
            "tags": []
          },
          "execution_count": 163
        }
      ]
    },
    {
      "cell_type": "code",
      "metadata": {
        "colab": {
          "base_uri": "https://localhost:8080/"
        },
        "id": "qFEZ3jb0AbPh",
        "outputId": "fd091bd9-c2c2-44c0-d6a0-f585e86ab6e6"
      },
      "source": [
        "new_customer = df.drop('loan_status', axis=1).iloc[0]\n",
        "new_customer"
      ],
      "execution_count": 164,
      "outputs": [
        {
          "output_type": "execute_result",
          "data": {
            "text/plain": [
              "loan_amnt            10000.00\n",
              "term                    36.00\n",
              "int_rate                11.44\n",
              "installment            329.48\n",
              "annual_inc          117000.00\n",
              "                      ...    \n",
              "48052                    0.00\n",
              "70466                    0.00\n",
              "86630                    0.00\n",
              "93700                    0.00\n",
              "earliest_cr_year      1990.00\n",
              "Name: 0, Length: 78, dtype: float64"
            ]
          },
          "metadata": {
            "tags": []
          },
          "execution_count": 164
        }
      ]
    },
    {
      "cell_type": "code",
      "metadata": {
        "colab": {
          "base_uri": "https://localhost:8080/"
        },
        "id": "NF0ffNNqAqMV",
        "outputId": "923c1f17-54a2-4893-b2ef-e833dc1e66ee"
      },
      "source": [
        "model.predict_classes(new_customer.values.reshape(1,78))"
      ],
      "execution_count": 165,
      "outputs": [
        {
          "output_type": "stream",
          "text": [
            "/usr/local/lib/python3.6/dist-packages/tensorflow/python/keras/engine/sequential.py:450: UserWarning: `model.predict_classes()` is deprecated and will be removed after 2021-01-01. Please use instead:* `np.argmax(model.predict(x), axis=-1)`,   if your model does multi-class classification   (e.g. if it uses a `softmax` last-layer activation).* `(model.predict(x) > 0.5).astype(\"int32\")`,   if your model does binary classification   (e.g. if it uses a `sigmoid` last-layer activation).\n",
            "  warnings.warn('`model.predict_classes()` is deprecated and '\n"
          ],
          "name": "stderr"
        },
        {
          "output_type": "execute_result",
          "data": {
            "text/plain": [
              "array([[1]], dtype=int32)"
            ]
          },
          "metadata": {
            "tags": []
          },
          "execution_count": 165
        }
      ]
    },
    {
      "cell_type": "code",
      "metadata": {
        "colab": {
          "base_uri": "https://localhost:8080/"
        },
        "id": "rJscd2PRBBoo",
        "outputId": "392df647-f150-43f4-c262-fc155afa3375"
      },
      "source": [
        "new_customer2 = df.drop('loan_status', axis=1).iloc[4]\n",
        "new_customer2"
      ],
      "execution_count": 168,
      "outputs": [
        {
          "output_type": "execute_result",
          "data": {
            "text/plain": [
              "loan_amnt           24375.00\n",
              "term                   60.00\n",
              "int_rate               17.27\n",
              "installment           609.33\n",
              "annual_inc          55000.00\n",
              "                      ...   \n",
              "48052                   0.00\n",
              "70466                   0.00\n",
              "86630                   0.00\n",
              "93700                   0.00\n",
              "earliest_cr_year     1999.00\n",
              "Name: 4, Length: 78, dtype: float64"
            ]
          },
          "metadata": {
            "tags": []
          },
          "execution_count": 168
        }
      ]
    },
    {
      "cell_type": "code",
      "metadata": {
        "colab": {
          "base_uri": "https://localhost:8080/"
        },
        "id": "3t9lwDLuBPPF",
        "outputId": "4ed4c800-c097-4964-b7ad-227996e2410f"
      },
      "source": [
        "model.predict_classes(new_customer2.values.reshape(1,78)) # Actual value is '0', model wrong"
      ],
      "execution_count": 170,
      "outputs": [
        {
          "output_type": "stream",
          "text": [
            "/usr/local/lib/python3.6/dist-packages/tensorflow/python/keras/engine/sequential.py:450: UserWarning: `model.predict_classes()` is deprecated and will be removed after 2021-01-01. Please use instead:* `np.argmax(model.predict(x), axis=-1)`,   if your model does multi-class classification   (e.g. if it uses a `softmax` last-layer activation).* `(model.predict(x) > 0.5).astype(\"int32\")`,   if your model does binary classification   (e.g. if it uses a `sigmoid` last-layer activation).\n",
            "  warnings.warn('`model.predict_classes()` is deprecated and '\n"
          ],
          "name": "stderr"
        },
        {
          "output_type": "execute_result",
          "data": {
            "text/plain": [
              "array([[1]], dtype=int32)"
            ]
          },
          "metadata": {
            "tags": []
          },
          "execution_count": 170
        }
      ]
    },
    {
      "cell_type": "markdown",
      "metadata": {
        "id": "mfMusvaQ87qB"
      },
      "source": [
        ""
      ]
    }
  ]
}